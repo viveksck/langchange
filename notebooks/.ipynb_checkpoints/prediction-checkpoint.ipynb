{
 "cells": [
  {
   "cell_type": "code",
   "execution_count": 1,
   "metadata": {
    "collapsed": false
   },
   "outputs": [],
   "source": [
    "#Basic imports\n",
    "import sys\n",
    "import random\n",
    "import collections\n",
    "\n",
    "import numpy as np\n",
    "import matplotlib.pyplot as plt\n",
    "import scipy as sp\n",
    "import pandas as pd\n",
    "import seaborn as sns\n",
    "#import statsmodels.api as sm\n",
    "import scikits.bootstrap as bs\n",
    "\n",
    "DATA_DIR = \"/dfs/scratch0/googlengrams/2012-eng-fic/\"\n",
    "sys.path.append(\"../langchange\")\n",
    "\n",
    "import ioutils as util\n",
    "from cooccurrence import matstore\n",
    "from statutils import plothelper, changepoint, trendestimator, seriesanalysis, mixedmodels\n",
    "from vecanalysis.sequentialexplicit import SequentialExplicit\n",
    "\n",
    "%matplotlib inline"
   ]
  },
  {
   "cell_type": "code",
   "execution_count": 2,
   "metadata": {
    "collapsed": false
   },
   "outputs": [],
   "source": [
    "# Loading basic word and frequency info\n",
    "year_words = util.load_pickle(DATA_DIR + \"/info/freqnonstop_peryear-1900-2000-7.pkl\")\n",
    "years = np.arange(1900, 2001)\n",
    "freqs = util.load_pickle(DATA_DIR + \"/info/freqnonstop_peryear-1900-2000-7-freqs.pkl\")\n",
    "# top year words contains only top 20000 words per year\n",
    "top_year_words = {}\n",
    "for year, words in year_words.iteritems():\n",
    "    top_year_words[year] = words[:10000]\n",
    "import collections\n",
    "year_freqs = collections.defaultdict(lambda : collections.defaultdict(lambda : float('nan')))\n",
    "for year, words in top_year_words.iteritems():\n",
    "    for word in words:\n",
    "        year_freqs[word][year] = freqs[word][year]\n",
    "all_words = set([word for year_words in top_year_words.values() for word in year_words])\n",
    "\n",
    "# Load word lists\n",
    "brown = util.load_word_list(\"/dfs/scratch0/googlengrams/misc/brownwords.txt\")\n",
    "concrete = util.load_word_list(\"/dfs/scratch0/googlengrams/misc/concretewords.txt\")\n",
    "abstract = util.load_word_list(\"/dfs/scratch0/googlengrams/misc/abstractwords.txt\")\n",
    "concrete_cmn = util.load_word_list(\"/dfs/scratch0/googlengrams/misc/concretewords-cmn.txt\")\n",
    "abs_cmn = util.load_word_list(\"/dfs/scratch0/googlengrams/misc/abstractwords-cmn.txt\")\n",
    "nouns = util.load_word_list(\"/dfs/scratch0/googlengrams/misc/nouns.txt\")\n",
    "adjs = util.load_word_list(\"/dfs/scratch0/googlengrams/misc/adjs.txt\")\n",
    "verbs = util.load_word_list(\"/dfs/scratch0/googlengrams/misc/verbs.txt\")\n",
    "advs = util.load_word_list(\"/dfs/scratch0/googlengrams/misc/advs.txt\")"
   ]
  },
  {
   "cell_type": "code",
   "execution_count": 3,
   "metadata": {
    "collapsed": true
   },
   "outputs": [],
   "source": [
    "sums = util.load_pickle(DATA_DIR + \"/nppmi_conf/lsmooth10/netstats/freqnonstop_peryear-1900-2000-7-top20000-sum.pkl\")\n",
    "clusts = util.load_pickle(DATA_DIR + \"/nppmi_conf/lsmooth10/netstats/freqnonstop_peryear-1900-2000-7-top20000-weighted.pkl\")\n",
    "vols =  util.load_pickle(DATA_DIR + \"/nppmi_conf/lsmooth10/volstats/freqnonstop_peryear-1900-2000-7-0.0-top20000-vols.pkl\")\n",
    "cents = util.load_pickle(DATA_DIR + \"/nppmi_conf/lsmooth10/secondnetstats-0-None/freqnonstop_peryear-1900-2000-7-top20000-sum.pkl\")\n",
    "knn_sums = util.load_pickle(DATA_DIR + \"/nppmi_conf/lsmooth10/secondnetstats-0-5/freqnonstop_peryear-1900-2000-7-top20000-sum.pkl\")\n",
    "disps =  util.load_pickle(DATA_DIR + \"/nppmi_conf/lsmooth10/volstats/freqnonstop_peryear-1900-2000-7-0.0-top20000-disps.pkl\")"
   ]
  },
  {
   "cell_type": "code",
   "execution_count": 4,
   "metadata": {
    "collapsed": true
   },
   "outputs": [],
   "source": [
    "# log transform of variables as necessary\n",
    "log_freqs = {word:{year:np.log(freq) for year, freq in vals.iteritems()} for word, vals in freqs.iteritems()}\n",
    "log_sums = {word:{year:np.log(sum) for year, sum in vals.iteritems()} for word, vals in sums.iteritems()}\n",
    "log_clusts = {word:{year:np.log(clust) for year, clust in vals.iteritems()} for word, vals in clusts.iteritems()}\n",
    "log_cents = {word:{year:np.log(cent) for year, cent in vals.iteritems()} for word, vals in cents.iteritems()}"
   ]
  },
  {
   "cell_type": "code",
   "execution_count": 5,
   "metadata": {
    "collapsed": true
   },
   "outputs": [],
   "source": [
    "import dill\n",
    "con_scores = dill.load(open(DATA_DIR + \"/nppmi_conf/lsmooth10/netstats/conscores-10.pkl\", \"r\"))\n",
    "con_scores_ms = seriesanalysis.get_series_mean_std(con_scores, con_scores.keys())"
   ]
  },
  {
   "cell_type": "code",
   "execution_count": 12,
   "metadata": {
    "collapsed": true
   },
   "outputs": [],
   "source": [
    "# medians of variables as necessary\n",
    "log_freqs_med = seriesanalysis.get_series_mean_std_peryear(log_freqs, top_year_words)[0]\n",
    "log_sums_med = seriesanalysis.get_series_mean_std_peryear(log_sums, top_year_words)[0]\n",
    "log_clusts_med = seriesanalysis.get_series_mean_std_peryear(log_clusts, top_year_words)[0]\n",
    "log_cents_med = seriesanalysis.get_series_mean_std_peryear(log_cents, top_year_words)[0]"
   ]
  },
  {
   "cell_type": "code",
   "execution_count": 13,
   "metadata": {
    "collapsed": false
   },
   "outputs": [],
   "source": [
    "# setting up dataframe\n",
    "random.seed(10)\n",
    "# keep words that have valid volatility scores and second order centralities\n",
    "valid_set = (set(vols.keys()).intersection(set(cents.keys()))).intersection(set(brown))\n",
    "verb_set = set(verbs)\n",
    "adj_set = set(adjs)\n",
    "adv_set = set(advs)\n",
    "con_set = set(concrete)\n",
    "abs_set = set(abstract)\n",
    "valid_list = list(valid_set)\n",
    "random.shuffle(valid_list)\n",
    "# 500 words for validation, 500 for testing\n",
    "feature_dict = {\"freq\" : (lambda word, year : log_freqs[word][year-1] - log_freqs_med[year-1901]),\n",
    "                \"freq_diff\" : (lambda word, year : abs(log_freqs[word][year] - log_freqs_med[year-1900] - log_freqs[word][year-1] + log_freqs_med[year-1901])),\n",
    "                \"extent\" : (lambda word, year : log_sums[word][year-1] - log_sums_med[year-1901]),\n",
    "                \"centr\" : (lambda word, year : log_cents[word][year-1] - log_cents_med[year-1901]),\n",
    "                \"clust\" : (lambda word, year : log_clusts[word][year-1] - log_clusts_med[year-1901]),\n",
    "                \"con\" : (lambda word, year : (con_scores[word][year-1] -  con_scores_ms[0][year-1901]) / (con_scores_ms[1][year-1901])),\n",
    "                \"vol\" : (lambda word, year : (1 - vols[word][year])),\n",
    "                \"disp\" : (lambda word, year : (1 - disps[word][year-1])),\n",
    "              #  \"lag_vol\" : (lambda word, year : (1 - vols[word][year-1])), no lagged vol unless really necessary\n",
    "                }\n",
    "temp_df = mixedmodels.make_data_frame(valid_list, range(1902, 2000), feature_dict)"
   ]
  },
  {
   "cell_type": "code",
   "execution_count": 14,
   "metadata": {
    "collapsed": true
   },
   "outputs": [],
   "source": [
    "# making train, dev, test split\n",
    "kept_words = temp_df[\"word\"].unique()\n",
    "num_valtest = int((len(kept_words)) * 0.1)\n",
    "test_df = temp_df.loc[temp_df[\"word\"].isin(kept_words[:num_valtest])]\n",
    "dev_df = temp_df.loc[temp_df[\"word\"].isin(kept_words[num_valtest:2*num_valtest])]\n",
    "train_df = temp_df.loc[temp_df[\"word\"].isin(kept_words[2*num_valtest:])]"
   ]
  },
  {
   "cell_type": "code",
   "execution_count": 15,
   "metadata": {
    "collapsed": true
   },
   "outputs": [],
   "source": [
    "# helper function to make matrices out of data frame\n",
    "def make_mats(df, features, target, year):\n",
    "    X = (df[(df[\"year\"] == year)])[features].as_matrix()\n",
    "    Y = (df[(df[\"year\"] == year)])[[target]].as_matrix().flatten()\n",
    "    return X, Y"
   ]
  },
  {
   "cell_type": "code",
   "execution_count": 16,
   "metadata": {
    "collapsed": false
   },
   "outputs": [],
   "source": [
    "# make predictions for each year on test set (with values derived via dev set experimentation)\n",
    "from sklearn.ensemble import RandomForestRegressor\n",
    "random.seed(10)\n",
    "years = range(1950, 2000)\n",
    "mod_trees = collections.defaultdict(dict)\n",
    "vol_trees = collections.defaultdict(dict)\n",
    "full_trees = collections.defaultdict(dict)\n",
    "mean_mse = {}\n",
    "mean_errs = {}\n",
    "for year in years:\n",
    "    X, y = make_mats(train_df, [\"freq\", \"freq_diff\", \"extent\", \"centr\", \"clust\", \"con\"], \"disp\", year)\n",
    "    X_t, y_t = make_mats(test_df, [\"freq\", \"freq_diff\", \"extent\", \"centr\", \"clust\", \"con\"], \"disp\", year)\n",
    "    mod = RandomForestRegressor(n_estimators=100, min_samples_split=50)\n",
    "    mod.fit(X, y)\n",
    "    mod_trees[\"fit\"][year] = mod\n",
    "    mod_trees[\"mse\"][year] = np.mean((mod.predict(X_t) - y_t) ** 2.0)\n",
    "    mod_trees[\"tau\"][year] = sp.stats.kendalltau(mod.predict(X_t), y_t)\n",
    "    mod_trees[\"errs\"][year] = (mod.predict(X_t) - y_t) ** 2.0\n",
    "\n",
    "    \n",
    "    X, y = make_mats(train_df, [\"vol\"], \"disp\", year)\n",
    "    X_t, y_t = make_mats(test_df, [\"vol\"], \"disp\", year)\n",
    "    mod = RandomForestRegressor(n_estimators=100, min_samples_split=50)\n",
    "    mod.fit(X, y)\n",
    "    vol_trees[\"fit\"][year] = mod\n",
    "    vol_trees[\"mse\"][year] = np.mean((mod.predict(X_t) - y_t) ** 2.0)\n",
    "    vol_trees[\"tau\"][year] = sp.stats.kendalltau(mod.predict(X_t), y_t)\n",
    "    vol_trees[\"errs\"][year] = (mod.predict(X_t) - y_t) ** 2.0\n",
    "    \n",
    "    X, y = make_mats(train_df, [\"freq\", \"freq_diff\", \"extent\", \"centr\", \"clust\", \"con\", \"vol\"], \"disp\", year)\n",
    "    X_t, y_t = make_mats(test_df, [\"freq\", \"freq_diff\", \"extent\", \"centr\", \"clust\", \"con\", \"vol\"], \"disp\", year)\n",
    "    mod = RandomForestRegressor(n_estimators=100, min_samples_split=50)\n",
    "    mod.fit(X, y)\n",
    "    full_trees[\"fit\"][year] = mod\n",
    "    full_trees[\"mse\"][year] = np.mean((mod.predict(X_t) - y_t) ** 2.0)\n",
    "    full_trees[\"tau\"][year] = sp.stats.kendalltau(mod.predict(X_t), y_t)\n",
    "    full_trees[\"errs\"][year] = (mod.predict(X_t) - y_t) ** 2.0\n",
    "    \n",
    "    mean_mse[year] = np.mean((y.mean() - y_t) ** 2.0)\n",
    "    mean_errs[year] = (y.mean() - y_t) ** 2.0"
   ]
  },
  {
   "cell_type": "code",
   "execution_count": 453,
   "metadata": {
    "collapsed": false
   },
   "outputs": [],
   "source": [
    "mean_perrs = {}\n",
    "for year in range(1950,2000):\n",
    "    X_t, y_t = make_mats(test_df, [\"freq\", \"freq_diff\", \"extent\", \"centr\", \"clust\", \"con\"], \"disp\", year)\n",
    "    mod_trees[\"perrs\"][year] = np.sqrt(mod_trees[\"errs\"][year])\n",
    "    full_trees[\"perrs\"][year] = np.sqrt(full_trees[\"errs\"][year])\n",
    "    vol_trees[\"perrs\"][year] = np.sqrt(vol_trees[\"errs\"][year])\n",
    "    mean_perrs[year] = np.sqrt(mean_errs[year])"
   ]
  },
  {
   "cell_type": "code",
   "execution_count": 468,
   "metadata": {
    "collapsed": false
   },
   "outputs": [
    {
     "data": {
      "text/plain": [
       "0.54629999765300552"
      ]
     },
     "execution_count": 468,
     "metadata": {},
     "output_type": "execute_result"
    }
   ],
   "source": [
    "X_t, y_t = make_mats(test_df, [\"freq\", \"freq_diff\", \"extent\", \"centr\", \"clust\", \"con\"], \"disp\", 1950)\n",
    "np.mean(y_t)"
   ]
  },
  {
   "cell_type": "code",
   "execution_count": 17,
   "metadata": {
    "collapsed": false
   },
   "outputs": [],
   "source": [
    "# helper function to get ci's per year (and dealing with fact that years might have diff # prediction words)\n",
    "def get_yearly_error_cis(errs, alpha, reverse=True):\n",
    "    errs = errs.values()\n",
    "   # if reverse:\n",
    "      #  errs.reverse()\n",
    "    means = []\n",
    "    lowers = []\n",
    "    uppers = []\n",
    "    for i, err_arr in enumerate(errs):\n",
    "        _, y_t = make_mats(test_df, [\"freq\"], \"disp\", 1950+i)  \n",
    "        base = np.mean(y_t)\n",
    "        means.append(np.mean(err_arr))#/base)\n",
    "        low, high = bs.ci(err_arr, alpha=alpha)\n",
    "        lowers.append(low)#/base)\n",
    "        uppers.append(high)#/base)\n",
    "    return means, lowers, uppers"
   ]
  },
  {
   "cell_type": "code",
   "execution_count": 49,
   "metadata": {
    "collapsed": true
   },
   "outputs": [],
   "source": [
    "plt.rcParams[\"lines.linewidth\"] = 0.25\n",
    "plt.rcParams[\"patch.linewidth\"] = 0.25\n",
    "plt.rcParams[\"grid.linewidth\"] = 0.6\n",
    "plt.rcParams[\"axes.linewidth\"] = 0.6\n",
    "plt.rcParams[\"axes.labelsize\"] =  7\n",
    "plt.rcParams[\"axes.titlesize\"] = 7\n",
    "plt.rcParams[\"xtick.labelsize\"] = 5\n",
    "plt.rcParams[\"ytick.labelsize\"] = 5\n",
    "plt.rcParams[\"ytick.major.size\"] = 0.4\n",
    "plt.rcParams[\"ytick.major.width\"] = 0.5\n",
    "plt.rcParams[\"xtick.major.size\"] = 0.5\n",
    "plt.rcParams[\"xtick.major.width\"] = 0.4\n",
    "plt.rcParams[\"ytick.minor.size\"] = 0.25\n",
    "plt.rcParams[\"ytick.minor.width\"] = 0.25\n",
    "plt.rcParams[\"legend.fontsize\"] = 7"
   ]
  },
  {
   "cell_type": "code",
   "execution_count": 74,
   "metadata": {
    "collapsed": false
   },
   "outputs": [
    {
     "data": {
      "image/png": "[encoded data removed]",
      "text/plain": [
       "<matplotlib.figure.Figure at 0x7f33f9cf6f90>"
      ]
     },
     "metadata": {},
     "output_type": "display_data"
    }
   ],
   "source": [
    "from mpl_toolkits.axes_grid1.inset_locator import mark_inset\n",
    "sns.set_style(\"ticks\")\n",
    "#sns.set_context(\"paper\")\n",
    "sns.set_palette(\"dark\")\n",
    "plt.rcParams[\"figure.figsize\"] = (3.5, 2.5)\n",
    "xs = range(1950, 2000)\n",
    "_, ax = plt.subplots(1,1)\n",
    "#base_info = get_yearly_error_cis(mean_errs, 0.05, reverse=False)\n",
    "plt.plot(xs, base_info[0], color=sns.color_palette()[0], lw=0.3, ls='--')\n",
    "plt.fill_between(xs, base_info[1], base_info[2], color=sns.color_palette()[0], alpha=0.2)\n",
    "#mod_info = get_yearly_error_cis(mod_trees[\"errs\"], 0.05)\n",
    "plt.plot(xs, mod_info[0], color=sns.color_palette()[1], lw=0.3, ls='-')\n",
    "plt.fill_between(xs, mod_info[1], mod_info[2], color=sns.color_palette()[1], alpha=0.2)\n",
    "#vol_info = get_yearly_error_cis(vol_trees[\"errs\"], 0.05)\n",
    "#plt.plot(xs, vol_info[0], color=sns.color_palette()[2], lw=1, ls=':')\n",
    "#plt.fill_between(xs, vol_info[1], vol_info[2], color=sns.color_palette()[2], alpha=0.2)\n",
    "#full_info = get_yearly_error_cis(full_trees[\"errs\"], 0.05, reverse=False)\n",
    "#plt.plot(xs, full_info[0], color=sns.color_palette()[1], lw=1, ls='-')\n",
    "#plt.fill_between(xs, full_info[1], full_info[2], color=sns.color_palette()[1], alpha=0.2)\n",
    "ax.legend([\"Baseline (mean)\", \"Random forest \\n(VSM features)\"], \"lower left\", ncol=1)\n",
    "ax.set_xlabel(\"Prediction (base) year\")\n",
    "ax.set_ylabel(\"Prediction error (MSE)\")\n",
    "#a = plt.axes([.655, .132, .18, .17])\n",
    "ax.set_ylim(0, 0.022)\n",
    "#ax.axhspan(0.005, 0.017, xmin=0.79, xmax=0.81, fill=False, color=\"black\", alpha=0.5, lw=1, visible=True)\n",
    "#make_bplot_comp(1965, a)\n",
    "#a.set_ylabel(\"\")\n",
    "#a.set_xticklabels([])\n",
    "#a.set_yticklabels([])\n",
    "#mark_inset(a, ax,0, 0, fc=\"none\", ec=\"0.5\")\n",
    "plt.tight_layout()\n",
    "for axis in ['top','bottom','left','right']:\n",
    "    ax.spines[axis].set_linewidth(0.6)\n",
    "ax.xaxis.set_ticks_position('bottom')\n",
    "ax.yaxis.set_ticks_position('left')\n",
    "ax.minorticks_on()\n",
    "plt.savefig(\"pred-time.pdf\")"
   ]
  },
  {
   "cell_type": "code",
   "execution_count": 553,
   "metadata": {
    "collapsed": false
   },
   "outputs": [
    {
     "data": {
      "text/plain": [
       "0.26219543883025515"
      ]
     },
     "execution_count": 553,
     "metadata": {},
     "output_type": "execute_result"
    }
   ],
   "source": [
    "(np.mean(base_info[0]) - np.mean(mod_info[0])) / (np.mean(base_info[0]))"
   ]
  },
  {
   "cell_type": "code",
   "execution_count": 46,
   "metadata": {
    "collapsed": false
   },
   "outputs": [
    {
     "data": {
      "text/plain": [
       "0.47210634233359527"
      ]
     },
     "execution_count": 46,
     "metadata": {},
     "output_type": "execute_result"
    }
   ],
   "source": [
    "1 - (np.mean(mod_info[0])) / (np.mean(base_info[0]))"
   ]
  },
  {
   "cell_type": "code",
   "execution_count": 75,
   "metadata": {
    "collapsed": false
   },
   "outputs": [
    {
     "data": {
      "image/png": "[encoded data removed]",
      "text/plain": [
       "<matplotlib.figure.Figure at 0x7f33fa3d8c10>"
      ]
     },
     "metadata": {},
     "output_type": "display_data"
    }
   ],
   "source": [
    "from mpl_toolkits.axes_grid1.inset_locator import mark_inset\n",
    "\n",
    "#sns.set_style(\"white\")\n",
    "#sns.set_context(\"paper\")\n",
    "sns.set_palette(\"dark\")\n",
    "plt.rcParams[\"figure.figsize\"] = (5, 3.5)\n",
    "xs = range(1950, 2000)\n",
    "_, ax = plt.subplots(1,1)\n",
    "#base_info = get_yearly_error_cis(mean_errs, 0.05, reverse=False)\n",
    "#plt.plot(xs, base_info[0], color=sns.color_palette()[0], lw=1, ls='--')\n",
    "#plt.fill_between(xs, base_info[1], base_info[2], color=sns.color_palette()[0], alpha=0.2)\n",
    "#full_info = get_yearly_error_cis(full_trees[\"errs\"], 0.05, reverse=False)\n",
    "#mod_info = get_yearly_error_cis(mod_trees[\"errs\"], 0.05)\n",
    "plt.plot(xs, mod_info[0], color=sns.color_palette()[0], lw=0.5, ls='--')\n",
    "plt.fill_between(xs, mod_info[1], mod_info[2], color=sns.color_palette()[0], alpha=0.2)\n",
    "#vol_info = get_yearly_error_cis(vol_trees[\"errs\"], 0.05)\n",
    "plt.plot(xs, vol_info[0], color=sns.color_palette()[2], lw=0.5, ls=':')\n",
    "plt.fill_between(xs, vol_info[1], vol_info[2], color=sns.color_palette()[2], alpha=0.2)\n",
    "plt.plot(xs, full_info[0], color=sns.color_palette()[1], lw=0.5, ls='-')\n",
    "plt.fill_between(xs, full_info[1], full_info[2], color=sns.color_palette()[1], alpha=0.2)\n",
    "ax.legend([\"VSM feat.\", \"Hist. rate\", \"Combined\"], loc='upper right', ncol=1)\n",
    "ax.set_xlabel(\"Prediction (base) year\")\n",
    "ax.set_ylabel(\"Prediction error (MSE)\")\n",
    "ax.set_xlim(1949, 2000)\n",
    "#a = plt.axes([.655, .132, .18, .17])\n",
    "#ax.set_ylim(0, 0.02)\n",
    "#ax.axhspan(0.005, 0.017, xmin=0.79, xmax=0.81, fill=False, color=\"black\", alpha=0.5, lw=1, visible=True)\n",
    "#make_bplot_comp(1965, a)\n",
    "#a.set_ylabel(\"\")\n",
    "#a.set_xticklabels([])\n",
    "#a.set_yticklabels([])\n",
    "#mark_inset(a, ax,0, 0, fc=\"none\", ec=\"0.5\")\n",
    "#plt.tight_layout()\n",
    "for axis in ['top','bottom','left','right']:\n",
    "    ax.spines[axis].set_linewidth(0.6)\n",
    "ax.xaxis.set_ticks_position('bottom')\n",
    "ax.yaxis.set_ticks_position('left')\n",
    "ax.minorticks_on()\n",
    "plt.savefig(\"ext-pred-time.pdf\")"
   ]
  },
  {
   "cell_type": "code",
   "execution_count": 482,
   "metadata": {
    "collapsed": false
   },
   "outputs": [
    {
     "data": {
      "text/plain": [
       "[0.29481824289601627,\n",
       " 0.28455570486045301,\n",
       " 0.27966563793686194,\n",
       " 0.27298667938287524,\n",
       " 0.26775453957889572,\n",
       " 0.27039403755316149,\n",
       " 0.28739519967486926,\n",
       " 0.29074214816391358,\n",
       " 0.25789746462001645,\n",
       " 0.24430437740351921,\n",
       " 0.2443199205807193,\n",
       " 0.23671803752883283,\n",
       " 0.2690720328215972,\n",
       " 0.26444700324175546,\n",
       " 0.24615319120770476,\n",
       " 0.23558829093974024,\n",
       " 0.22038901181877371,\n",
       " 0.20618067309643837,\n",
       " 0.19293882886519326,\n",
       " 0.20230354719638058,\n",
       " 0.17776142345634055,\n",
       " 0.20383043025265637,\n",
       " 0.17994469220860435,\n",
       " 0.18992335603200183,\n",
       " 0.16490480502658914,\n",
       " 0.17507808246246948,\n",
       " 0.1706405217242799,\n",
       " 0.15519409552243857,\n",
       " 0.16602070495281449,\n",
       " 0.14920957286979941,\n",
       " 0.16264886766287487,\n",
       " 0.15468088380451836,\n",
       " 0.14406729702374219,\n",
       " 0.14068534597360799,\n",
       " 0.14470696230498004,\n",
       " 0.12888216368218644,\n",
       " 0.12665628059787831,\n",
       " 0.15024369721677119,\n",
       " 0.13593767797971121,\n",
       " 0.13471543743579911,\n",
       " 0.12933330246424732,\n",
       " 0.12238974969712887,\n",
       " 0.10998883117866275,\n",
       " 0.10610618305831045,\n",
       " 0.1138745851214903,\n",
       " 0.12028620986007282,\n",
       " 0.11558120392330869,\n",
       " 0.10958212367736428,\n",
       " 0.10438637235147175,\n",
       " 0.111483941324445]"
      ]
     },
     "execution_count": 482,
     "metadata": {},
     "output_type": "execute_result"
    }
   ],
   "source": [
    "full_info[0]"
   ]
  },
  {
   "cell_type": "code",
   "execution_count": 423,
   "metadata": {
    "collapsed": false
   },
   "outputs": [
    {
     "data": {
      "text/plain": [
       "0.0069537160233637445"
      ]
     },
     "execution_count": 423,
     "metadata": {},
     "output_type": "execute_result"
    }
   ],
   "source": [
    "np.mean(vol_trees[\"errs\"][1960])"
   ]
  },
  {
   "cell_type": "code",
   "execution_count": 472,
   "metadata": {
    "collapsed": false
   },
   "outputs": [],
   "source": [
    "ps = []\n",
    "for year in range(1950, 2000):\n",
    "    ps.append(sp.stats.mannwhitneyu(vol_trees[\"errs\"][year], full_trees[\"errs\"][year]))"
   ]
  },
  {
   "cell_type": "code",
   "execution_count": 62,
   "metadata": {
    "collapsed": false
   },
   "outputs": [
    {
     "data": {
      "text/plain": [
       "(528027.0, 0.000271013075710368)"
      ]
     },
     "execution_count": 62,
     "metadata": {},
     "output_type": "execute_result"
    }
   ],
   "source": [
    "sp.stats.mannwhitneyu(vol_trees[\"errs\"][1950], mod_trees[\"errs\"][1950])"
   ]
  },
  {
   "cell_type": "code",
   "execution_count": 60,
   "metadata": {
    "collapsed": false
   },
   "outputs": [
    {
     "data": {
      "text/plain": [
       "(1354303729.0, 1.3572596519585135e-101)"
      ]
     },
     "execution_count": 60,
     "metadata": {},
     "output_type": "execute_result"
    }
   ],
   "source": [
    "sp.stats.mannwhitneyu([err for errs in vol_trees[\"errs\"].values() for err in errs], [err for errs in full_trees[\"errs\"].values() for err in errs])"
   ]
  },
  {
   "cell_type": "code",
   "execution_count": 73,
   "metadata": {
    "collapsed": false
   },
   "outputs": [
    {
     "data": {
      "image/png": "[encoded data removed]",
      "text/plain": [
       "<matplotlib.figure.Figure at 0x7f33f9ef9110>"
      ]
     },
     "metadata": {},
     "output_type": "display_data"
    }
   ],
   "source": [
    "#sns.set_context(\"paper\", font_scale=1)\n",
    "#sns.set_palette(\"Set2\")\n",
    "sns.set_style(\"white\")\n",
    "plt.rcParams[\"lines.linewidth\"] = 0.25\n",
    "plt.rcParams[\"patch.linewidth\"] = 0.25\n",
    "plt.rcParams[\"grid.linewidth\"] = 0.6\n",
    "plt.rcParams[\"axes.linewidth\"] = 0.6\n",
    "plt.rcParams[\"axes.labelsize\"] =  7\n",
    "plt.rcParams[\"axes.titlesize\"] = 7\n",
    "plt.rcParams[\"xtick.labelsize\"] = 5\n",
    "plt.rcParams[\"ytick.labelsize\"] = 5\n",
    "plt.rcParams[\"figure.figsize\"] = (6, 2)\n",
    "fig, axs = plt.subplots(1,3)\n",
    "def make_year_df(year):\n",
    "    temp_df = pd.DataFrame()\n",
    "    temp_df[\"VSM \\nfeat\"] = mod_trees[\"errs\"][year]\n",
    "    temp_df[\"Combined\"] = full_trees[\"errs\"][year] \n",
    "    temp_df[\"Hist rate.\"] = vol_trees[\"errs\"][year]\n",
    "    return temp_df\n",
    "\n",
    "temp_df = make_year_df(1950)\n",
    "ax = sns.barplot(data=temp_df, ax=axs[0], errcolor='gray', lw=0.25, error_kw={\"elinewidth\":0.1, \"capsize\":10})\n",
    "   # ax.set_ylabel(\"{}-year prediction error (MSE)\".format(year))\n",
    "y_max = np.mean(vol_trees[\"errs\"][1950]) + 0.0012\n",
    "y_min = 0.0\n",
    "#ax.annotate(\"\", xy=(1, y_max), xycoords='data',\n",
    "#           xytext=(2, y_max), textcoords='data',\n",
    "#           arrowprops=dict(arrowstyle=\"-\", color='black',\n",
    "#                           connectionstyle=\"bar,fraction=0.2\"))\n",
    "#ax.text(1.5, y_max + abs(y_max - y_min)*0.1, '***', fontsize=8,\n",
    "#       horizontalalignment='center',\n",
    "#       verticalalignment='center')\n",
    "temp_df = make_year_df(1975)\n",
    "ax = sns.barplot(data=temp_df, ax=axs[1], errcolor='gray', lw=0.25, error_kw={\"elinewidth\":0.1, \"capsize\":10})\n",
    "   # ax.set_ylabel(\"{}-year prediction error (MSE)\".format(year))\n",
    "y_max = np.mean(vol_trees[\"errs\"][1975]) + 0.0012\n",
    "y_min = 0.0\n",
    "#ax.annotate(\"\", xy=(1, y_max), xycoords='data',\n",
    "#           xytext=(2, y_max), textcoords='data',\n",
    "#           arrowprops=dict(arrowstyle=\"-\", color='black',\n",
    "#                           connectionstyle=\"bar,fraction=0.2\"))\n",
    "#ax.text(1.5, y_max + abs(y_max - y_min)*0.1, '****', fontsize=8,\n",
    "#       horizontalalignment='center',\n",
    "#       verticalalignment='center')\n",
    "temp_df = make_year_df(1999)\n",
    "ax = sns.barplot(data=temp_df, ax=axs[2], errcolor='grey', lw=0.25, error_kw={\"elinewidth\":0.1, \"capsize\":10})\n",
    "   # ax.set_ylabel(\"{}-year prediction error (MSE)\".format(year))\n",
    "y_max = np.mean(vol_trees[\"errs\"][1999]) + 0.001\n",
    "y_min = 0.0\n",
    "#ax.annotate(\"\", xy=(1, y_max), xycoords='data',\n",
    "#           xytext=(2, y_max), textcoords='data',\n",
    "#           arrowprops=dict(arrowstyle=\"-\", color='black',\n",
    "#                           connectionstyle=\"bar,fraction=0.2\"))\n",
    "#ax.text(1.5, y_max + abs(y_max - y_min)*0.2, '*', fontsize=8,\n",
    "#       horizontalalignment='center',\n",
    "#       verticalalignment='center')\n",
    "#y_max = np.mean(mod_trees[\"errs\"][1999]) + 0.001\n",
    "#ax.annotate(\"\", xy=(0, y_max), xycoords='data',\n",
    "#           xytext=(2, y_max), textcoords='data',\n",
    "#           arrowprops=dict(arrowstyle=\"-\", color='black',\n",
    "#                           connectionstyle=\"bar,fraction=0.2\"))\n",
    "#ax.text(1, y_max + abs(y_max - y_min)*0.23, '****', fontsize=8,\n",
    "#       horizontalalignment='center',\n",
    "#       verticalalignment='center')\n",
    "ax.set_ylim(0, 0.012)\n",
    "axs[0].set_ylim(0, 0.012)\n",
    "axs[0].set_ylabel(\"1950 MSE\")\n",
    "axs[1].set_ylabel(\"1975 MSE\")\n",
    "axs[2].set_ylabel(\"1999 MSE\")\n",
    "plt.tight_layout()\n",
    "plt.savefig(\"pred-bar.pdf\")\n",
    "#axs[0].set_xticklabels([\"a\", \"b\", \"c\", \"d\"], rotation=45, fontsize=7)"
   ]
  },
  {
   "cell_type": "code",
   "execution_count": null,
   "metadata": {
    "collapsed": true
   },
   "outputs": [],
   "source": [
    "from sklearn.ensemble import RandomForestRegressor\n",
    "random.seed(10)\n",
    "years = range(1950, 2000)\n",
    "imp_trees = collections.defaultdict(dict)\n",
    "for year in years:\n",
    "    X, y = make_mats(train_df, [\"freq\", \"freq_diff\", \"extent\", \"centr\", \"clust\", \"con\"], \"vol\", year)\n",
    "    X_t, y_t = make_mats(dev_df, [\"freq\", \"freq_diff\", \"extent\", \"centr\", \"clust\", \"con\"], \"vol\", year)\n",
    "    mod = RandomForestRegressor(n_estimators=100, min_samples_split=50)\n",
    "    mod.fit(X, y)\n",
    "    imp_trees[\"fit\"][year] = mod"
   ]
  }
 ],
 "metadata": {
  "kernelspec": {
   "display_name": "Python 2",
   "language": "python",
   "name": "python2"
  },
  "language_info": {
   "codemirror_mode": {
    "name": "ipython",
    "version": 2
   },
   "file_extension": ".py",
   "mimetype": "text/x-python",
   "name": "python",
   "nbconvert_exporter": "python",
   "pygments_lexer": "ipython2",
   "version": "2.7.10"
  }
 },
 "nbformat": 4,
 "nbformat_minor": 0
}
