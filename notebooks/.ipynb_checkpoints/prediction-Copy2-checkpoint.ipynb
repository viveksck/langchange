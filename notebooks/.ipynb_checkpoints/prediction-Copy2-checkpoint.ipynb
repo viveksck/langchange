{
 "cells": [
  {
   "cell_type": "code",
   "execution_count": 1,
   "metadata": {
    "collapsed": false
   },
   "outputs": [],
   "source": [
    "#Basic imports\n",
    "import sys\n",
    "import random\n",
    "import collections\n",
    "\n",
    "import numpy as np\n",
    "import matplotlib.pyplot as plt\n",
    "import scipy as sp\n",
    "import pandas as pd\n",
    "import seaborn as sns\n",
    "import statsmodels.api as sm\n",
    "import scikits.bootstrap as bs\n",
    "\n",
    "DATA_DIR = \"/dfs/scratch0/googlengrams/2012-eng-fic/\"\n",
    "sys.path.append(\"../langchange\")\n",
    "\n",
    "import ioutils as util\n",
    "from cooccurrence import matstore\n",
    "from statutils import plothelper, changepoint, trendestimator, seriesanalysis, mixedmodels\n",
    "from vecanalysis.sequentialexplicit import SequentialExplicit\n",
    "\n",
    "%matplotlib inline"
   ]
  },
  {
   "cell_type": "code",
   "execution_count": 2,
   "metadata": {
    "collapsed": false
   },
   "outputs": [],
   "source": [
    "# Loading basic word and frequency info\n",
    "year_words = util.load_pickle(DATA_DIR + \"/info/freqnonstop_peryear-1900-2000-7.pkl\")\n",
    "years = np.arange(1900, 2001)\n",
    "freqs = util.load_pickle(DATA_DIR + \"/info/freqnonstop_peryear-1900-2000-7-freqs.pkl\")\n",
    "# top year words contains only top 20000 words per year\n",
    "top_year_words = {}\n",
    "for year, words in year_words.iteritems():\n",
    "    top_year_words[year] = words[:20000]\n",
    "import collections\n",
    "year_freqs = collections.defaultdict(lambda : collections.defaultdict(lambda : float('nan')))\n",
    "for year, words in top_year_words.iteritems():\n",
    "    for word in words:\n",
    "        year_freqs[word][year] = freqs[word][year]\n",
    "all_words = set([word for year_words in top_year_words.values() for word in year_words])\n",
    "\n",
    "# Load word lists\n",
    "brown = util.load_word_list(\"/dfs/scratch0/googlengrams/misc/brownwords.txt\")\n",
    "concrete = util.load_word_list(\"/dfs/scratch0/googlengrams/misc/concretewords.txt\")\n",
    "abstract = util.load_word_list(\"/dfs/scratch0/googlengrams/misc/abstractwords.txt\")\n",
    "concrete_cmn = util.load_word_list(\"/dfs/scratch0/googlengrams/misc/concretewords-cmn.txt\")\n",
    "abs_cmn = util.load_word_list(\"/dfs/scratch0/googlengrams/misc/abstractwords-cmn.txt\")\n",
    "nouns = util.load_word_list(\"/dfs/scratch0/googlengrams/misc/nouns.txt\")\n",
    "adjs = util.load_word_list(\"/dfs/scratch0/googlengrams/misc/adjs.txt\")\n",
    "verbs = util.load_word_list(\"/dfs/scratch0/googlengrams/misc/verbs.txt\")\n",
    "advs = util.load_word_list(\"/dfs/scratch0/googlengrams/misc/advs.txt\")"
   ]
  },
  {
   "cell_type": "code",
   "execution_count": null,
   "metadata": {
    "collapsed": true
   },
   "outputs": [],
   "source": [
    "new_stats = util.load_pickle(DATA_DIR + \"/nppmi_conf/lsmooth10/netstats/brownwords.pkl\")\n",
    "degs = new_stats[\"deg\"]\n",
    "sums = new_stats[\"sum\"]\n",
    "clusts = new_stats[\"wclust\"]\n",
    "vols = util.load_pickle(DATA_DIR + \"/nppmi_conf/lsmooth10/volstats/brownwords-0.0-vols.pkl\")\n",
    "disps = util.load_pickle(DATA_DIR + \"/nppmi_conf/lsmooth10/volstats/brownwords-0.0-disps.pkl\")\n",
    "cents = util.load_pickle(DATA_DIR + \"/nppmi_conf/lsmooth10/secondnetstats-0-None/brownwords-sum.pkl\")"
   ]
  },
  {
   "cell_type": "code",
   "execution_count": 3,
   "metadata": {
    "collapsed": false
   },
   "outputs": [],
   "source": [
    "sums = util.load_pickle(DATA_DIR + \"/nppmi_conf/lsmooth10/netstats/freqnonstop_peryear-1900-2000-7-top20000-sum.pkl\")\n",
    "clusts = util.load_pickle(DATA_DIR + \"/nppmi_conf/lsmooth10/netstats/freqnonstop_peryear-1900-2000-7-top20000-weighted.pkl\")\n",
    "vols =  util.load_pickle(DATA_DIR + \"/nppmi_conf/lsmooth10/volstats/freqnonstop_peryear-1900-2000-7-0.0-top20000-vols.pkl\")\n",
    "cents = util.load_pickle(DATA_DIR + \"/nppmi_conf/lsmooth10/secondnetstats-0-None/freqnonstop_peryear-1900-2000-7-top20000-sum.pkl\")\n",
    "knn_sums = util.load_pickle(DATA_DIR + \"/nppmi_conf/lsmooth10/secondnetstats-0-5/freqnonstop_peryear-1900-2000-7-top20000-sum.pkl\")\n",
    "disps =  util.load_pickle(DATA_DIR + \"/nppmi_conf/lsmooth10/volstats/freqnonstop_peryear-1900-2000-7-0.0-top20000-disps.pkl\")"
   ]
  },
  {
   "cell_type": "code",
   "execution_count": 4,
   "metadata": {
    "collapsed": true
   },
   "outputs": [],
   "source": [
    "# log transform of variables as necessary\n",
    "log_freqs = {word:{year:np.log(freq) for year, freq in vals.iteritems()} for word, vals in freqs.iteritems()}\n",
    "log_sums = {word:{year:np.log(sum) for year, sum in vals.iteritems()} for word, vals in sums.iteritems()}\n",
    "log_clusts = {word:{year:np.log(clust) for year, clust in vals.iteritems()} for word, vals in clusts.iteritems()}\n",
    "log_cents = {word:{year:np.log(cent) for year, cent in vals.iteritems()} for word, vals in cents.iteritems()}\n",
    "log_knn_sums = {word:{year:np.log(knn_sum) for year, knn_sum in vals.iteritems()} for word, vals in knn_sums.iteritems()}"
   ]
  },
  {
   "cell_type": "code",
   "execution_count": 5,
   "metadata": {
    "collapsed": true
   },
   "outputs": [],
   "source": [
    "# medians of variables as necessary\n",
    "log_freqs_med = seriesanalysis.get_series_median_peryear(log_freqs, top_year_words)\n",
    "log_sums_med = seriesanalysis.get_series_median_peryear(log_sums, top_year_words)\n",
    "log_clusts_med = seriesanalysis.get_series_median_peryear(log_clusts, top_year_words)\n",
    "log_cents_med = seriesanalysis.get_series_median_peryear(log_cents, top_year_words)\n",
    "log_knn_sums_med = seriesanalysis.get_series_median_peryear(log_knn_sums, top_year_words)"
   ]
  },
  {
   "cell_type": "code",
   "execution_count": 6,
   "metadata": {
    "collapsed": false
   },
   "outputs": [],
   "source": [
    "valid_set = (set(vols.keys()).intersection(set(cents.keys())))\n",
    "vols_ms = seriesanalysis.get_series_mean_std(vols, valid_set, start_year=1901, one_minus=True)"
   ]
  },
  {
   "cell_type": "code",
   "execution_count": 7,
   "metadata": {
    "collapsed": false
   },
   "outputs": [],
   "source": [
    "# setting up dataframe\n",
    "random.seed(10)\n",
    "# keep words that have valid volatility scores and second order centralities\n",
    "valid_set = (set(vols.keys()).intersection(set(cents.keys())))\n",
    "verb_set = set(verbs)\n",
    "adj_set = set(adjs)\n",
    "adv_set = set(advs)\n",
    "con_set = set(concrete)\n",
    "abs_set = set(abstract)\n",
    "valid_list = list(valid_set)\n",
    "random.shuffle(valid_list)\n",
    "# 500 words for validation, 500 for testing\n",
    "feature_dict = {\"freq\" : (lambda word, year : log_freqs[word][year-1] - log_freqs_med[year-1901]),\n",
    "                \"freq_diff\" : (lambda word, year : abs(log_freqs[word][year] - log_freqs_med[year-1900] - log_freqs[word][year-1] + log_freqs_med[year-1901])),\n",
    "                \"extent\" : (lambda word, year : log_sums[word][year-1] - log_sums_med[year-1901]),\n",
    "                \"centr\" : (lambda word, year : log_cents[word][year-1] - log_cents_med[year-1901]),\n",
    "                \"clust\" : (lambda word, year : log_clusts[word][year-1] - log_clusts_med[year-1901]),\n",
    "                \"con\" : (lambda word, year : 1 if word in con_set else -1 if word in abs_set else 0),\n",
    "                \"vol\" : (lambda word, year : ((1 - vols[word][year]) - vols_ms[0][year-1901]) / vols_ms[1][year-1901]),\n",
    "                \"disp\" : (lambda word, year : (1 - disps[word][year])),\n",
    "                \"knn_sum\" : (lambda word, year : log_knn_sums[word][year-1] - log_knn_sums_med[year-1901]),\n",
    "              #  \"lag_vol\" : (lambda word, year : (1 - vols[word][year-1])), no lagged vol unless really necessary\n",
    "                }\n",
    "temp_df = mixedmodels.make_data_frame(valid_list, range(1901, 2001), feature_dict)"
   ]
  },
  {
   "cell_type": "code",
   "execution_count": 9,
   "metadata": {
    "collapsed": true
   },
   "outputs": [],
   "source": [
    "# making train, dev, test split\n",
    "kept_words = temp_df[\"word\"].unique()\n",
    "num_valtest = int((len(kept_words)) * 0.1)\n",
    "test_df = temp_df.loc[temp_df[\"word\"].isin(kept_words[:num_valtest])]\n",
    "dev_df = temp_df.loc[temp_df[\"word\"].isin(kept_words[num_valtest:2*num_valtest])]\n",
    "train_df = temp_df.loc[temp_df[\"word\"].isin(kept_words[2*num_valtest:])]"
   ]
  },
  {
   "cell_type": "code",
   "execution_count": 10,
   "metadata": {
    "collapsed": false
   },
   "outputs": [
    {
     "data": {
      "text/plain": [
       "15683"
      ]
     },
     "execution_count": 10,
     "metadata": {},
     "output_type": "execute_result"
    }
   ],
   "source": [
    "len(train_df[\"word\"].unique())"
   ]
  },
  {
   "cell_type": "code",
   "execution_count": 161,
   "metadata": {
    "collapsed": false
   },
   "outputs": [
    {
     "data": {
      "text/plain": [
       "4306"
      ]
     },
     "execution_count": 161,
     "metadata": {},
     "output_type": "execute_result"
    }
   ],
   "source": [
    "len(train_df.loc[(train_df[\"year\"] == 1950) & (train_df[\"freq\"] < 0.0)][\"word\"].unique())"
   ]
  },
  {
   "cell_type": "code",
   "execution_count": 11,
   "metadata": {
    "collapsed": false
   },
   "outputs": [],
   "source": [
    "def make_mats(df, features, feature_year, target, target_year, feat_window_len=5):\n",
    "    valid_words = set(df.loc[(df[\"year\"] == feature_year) & (df[\"freq\"] < 0.0)][\"word\"].unique())\n",
    "    feat_years = range(feature_year - feat_window_len, feature_year)\n",
    "    has_target = set(df.loc[df[\"year\"] == target_year][\"word\"].unique())\n",
    "    valid_words = valid_words.intersection(has_target)\n",
    "    for f_year in feat_years:\n",
    "        has_feats = set(df.loc[df[\"year\"] == f_year][\"word\"].unique())\n",
    "        valid_words = valid_words.intersection(has_feats)\n",
    "    feat_map = np.zeros((len(valid_words), len(features) * feat_window_len))\n",
    "    for i, f_year in enumerate(feat_years):\n",
    "        year_map = (df.loc[(df[\"year\"] == f_year) & (df[\"word\"].isin(valid_words))])[features].as_matrix()\n",
    "        feat_map[:, i * len(features):((i + 1) * len(features))] = year_map\n",
    "    Y = (df.loc[(df[\"year\"] == target_year) & (df[\"word\"].isin(valid_words))])[[target]].as_matrix().flatten()\n",
    "    return feat_map, Y"
   ]
  },
  {
   "cell_type": "code",
   "execution_count": 30,
   "metadata": {
    "collapsed": true
   },
   "outputs": [],
   "source": [
    "def my_concat(list_o_mats, total_rows):\n",
    "    new_mat = np.empty((total_rows, list_o_mats[0].shape[1]))\n",
    "    size_so_far = 0\n",
    "    for mat in list_o_mats:\n",
    "        new_mat[size_so_far:mat.shape[0] + size_so_far, :] = mat\n",
    "        size_so_far += mat.shape[0]\n",
    "    return new_mat\n",
    "\n",
    "def make_ts_mats(train_df, test_df, features, target, years, feat_window_len=5, horizon=10):\n",
    "    Xs = []\n",
    "    ys = []\n",
    "    Xts = []\n",
    "    yts = []\n",
    "    train_total_rows = test_total_rows = 0\n",
    "    for year in years:\n",
    "        X, y = make_mats(train_df, features, year, target, year + horizon, feat_window_len=feat_window_len)\n",
    "        Xt, yt = make_mats(test_df, features, year, target, year + horizon, feat_window_len=feat_window_len)\n",
    "        train_total_rows += X.shape[0]\n",
    "        test_total_rows += Xt.shape[0]\n",
    "        Xs.append(X)\n",
    "        ys.append(np.mat(y).T)\n",
    "        Xts.append(Xt)\n",
    "        yts.append(np.mat(yt).T)\n",
    "    X = my_concat(Xs, train_total_rows)\n",
    "    y = my_concat(ys, train_total_rows)\n",
    "    Xt = my_concat(Xts, test_total_rows)\n",
    "    yt = my_concat(yts, train_total_rows)\n",
    "    return X, y.flatten(), Xt, yt.flatten()"
   ]
  },
  {
   "cell_type": "code",
   "execution_count": 23,
   "metadata": {
    "collapsed": false
   },
   "outputs": [
    {
     "data": {
      "text/plain": [
       "matrix([[ 0.25135474],\n",
       "        [-0.73796113],\n",
       "        [ 0.04080757],\n",
       "        ..., \n",
       "        [-0.68055022],\n",
       "        [-0.48378884],\n",
       "        [-0.57604845]])"
      ]
     },
     "execution_count": 23,
     "metadata": {},
     "output_type": "execute_result"
    }
   ],
   "source": [
    "np.mat(y).T"
   ]
  },
  {
   "cell_type": "code",
   "execution_count": 15,
   "metadata": {
    "collapsed": false
   },
   "outputs": [
    {
     "ename": "KeyboardInterrupt",
     "evalue": "",
     "output_type": "error",
     "traceback": [
      "\u001b[1;31m---------------------------------------------------------------------------\u001b[0m",
      "\u001b[1;31mKeyboardInterrupt\u001b[0m                         Traceback (most recent call last)",
      "\u001b[1;32m<ipython-input-15-38f168268974>\u001b[0m in \u001b[0;36m<module>\u001b[1;34m()\u001b[0m\n\u001b[0;32m     11\u001b[0m     \u001b[0mX_t\u001b[0m\u001b[1;33m,\u001b[0m \u001b[0my_t\u001b[0m \u001b[1;33m=\u001b[0m \u001b[0mmake_mats\u001b[0m\u001b[1;33m(\u001b[0m\u001b[0mdev_df\u001b[0m\u001b[1;33m,\u001b[0m \u001b[1;33m[\u001b[0m\u001b[1;34m\"extent\"\u001b[0m\u001b[1;33m,\u001b[0m \u001b[1;34m\"centr\"\u001b[0m\u001b[1;33m,\u001b[0m \u001b[1;34m\"clust\"\u001b[0m\u001b[1;33m,\u001b[0m \u001b[1;34m\"con\"\u001b[0m\u001b[1;33m,\u001b[0m \u001b[1;34m\"vol\"\u001b[0m\u001b[1;33m]\u001b[0m\u001b[1;33m,\u001b[0m \u001b[0myear\u001b[0m\u001b[1;33m,\u001b[0m \u001b[1;34m\"freq\"\u001b[0m\u001b[1;33m,\u001b[0m \u001b[0myear\u001b[0m \u001b[1;33m+\u001b[0m \u001b[1;36m10\u001b[0m\u001b[1;33m)\u001b[0m\u001b[1;33m\u001b[0m\u001b[0m\n\u001b[0;32m     12\u001b[0m     \u001b[0mmod\u001b[0m \u001b[1;33m=\u001b[0m \u001b[0mRandomForestRegressor\u001b[0m\u001b[1;33m(\u001b[0m\u001b[0mn_estimators\u001b[0m\u001b[1;33m=\u001b[0m\u001b[1;36m100\u001b[0m\u001b[1;33m,\u001b[0m \u001b[0mmin_samples_split\u001b[0m\u001b[1;33m=\u001b[0m\u001b[1;36m1\u001b[0m\u001b[1;33m)\u001b[0m\u001b[1;33m\u001b[0m\u001b[0m\n\u001b[1;32m---> 13\u001b[1;33m     \u001b[0mmod\u001b[0m\u001b[1;33m.\u001b[0m\u001b[0mfit\u001b[0m\u001b[1;33m(\u001b[0m\u001b[0mX\u001b[0m\u001b[1;33m,\u001b[0m \u001b[0my\u001b[0m\u001b[1;33m)\u001b[0m\u001b[1;33m\u001b[0m\u001b[0m\n\u001b[0m\u001b[0;32m     14\u001b[0m     \u001b[0mmod_trees\u001b[0m\u001b[1;33m[\u001b[0m\u001b[1;34m\"fit\"\u001b[0m\u001b[1;33m]\u001b[0m\u001b[1;33m[\u001b[0m\u001b[0myear\u001b[0m\u001b[1;33m]\u001b[0m \u001b[1;33m=\u001b[0m \u001b[0mmod\u001b[0m\u001b[1;33m\u001b[0m\u001b[0m\n\u001b[0;32m     15\u001b[0m     \u001b[0mmod_trees\u001b[0m\u001b[1;33m[\u001b[0m\u001b[1;34m\"mse\"\u001b[0m\u001b[1;33m]\u001b[0m\u001b[1;33m[\u001b[0m\u001b[0myear\u001b[0m\u001b[1;33m]\u001b[0m \u001b[1;33m=\u001b[0m \u001b[0mnp\u001b[0m\u001b[1;33m.\u001b[0m\u001b[0mmean\u001b[0m\u001b[1;33m(\u001b[0m\u001b[1;33m(\u001b[0m\u001b[0mmod\u001b[0m\u001b[1;33m.\u001b[0m\u001b[0mpredict\u001b[0m\u001b[1;33m(\u001b[0m\u001b[0mX_t\u001b[0m\u001b[1;33m)\u001b[0m \u001b[1;33m-\u001b[0m \u001b[0my_t\u001b[0m\u001b[1;33m)\u001b[0m \u001b[1;33m**\u001b[0m \u001b[1;36m2.0\u001b[0m\u001b[1;33m)\u001b[0m\u001b[1;33m\u001b[0m\u001b[0m\n",
      "\u001b[1;32m/afs/cs.stanford.edu/u/williamleif/anaconda/lib/python2.7/site-packages/sklearn/ensemble/forest.pyc\u001b[0m in \u001b[0;36mfit\u001b[1;34m(self, X, y, sample_weight)\u001b[0m\n\u001b[0;32m    271\u001b[0m                     \u001b[0mt\u001b[0m\u001b[1;33m,\u001b[0m \u001b[0mself\u001b[0m\u001b[1;33m,\u001b[0m \u001b[0mX\u001b[0m\u001b[1;33m,\u001b[0m \u001b[0my\u001b[0m\u001b[1;33m,\u001b[0m \u001b[0msample_weight\u001b[0m\u001b[1;33m,\u001b[0m \u001b[0mi\u001b[0m\u001b[1;33m,\u001b[0m \u001b[0mlen\u001b[0m\u001b[1;33m(\u001b[0m\u001b[0mtrees\u001b[0m\u001b[1;33m)\u001b[0m\u001b[1;33m,\u001b[0m\u001b[1;33m\u001b[0m\u001b[0m\n\u001b[0;32m    272\u001b[0m                     verbose=self.verbose, class_weight=self.class_weight)\n\u001b[1;32m--> 273\u001b[1;33m                 for i, t in enumerate(trees))\n\u001b[0m\u001b[0;32m    274\u001b[0m \u001b[1;33m\u001b[0m\u001b[0m\n\u001b[0;32m    275\u001b[0m             \u001b[1;31m# Collect newly grown trees\u001b[0m\u001b[1;33m\u001b[0m\u001b[1;33m\u001b[0m\u001b[0m\n",
      "\u001b[1;32m/afs/cs.stanford.edu/u/williamleif/anaconda/lib/python2.7/site-packages/sklearn/externals/joblib/parallel.pyc\u001b[0m in \u001b[0;36m__call__\u001b[1;34m(self, iterable)\u001b[0m\n\u001b[0;32m    657\u001b[0m             \u001b[0mself\u001b[0m\u001b[1;33m.\u001b[0m\u001b[0m_iterating\u001b[0m \u001b[1;33m=\u001b[0m \u001b[0mTrue\u001b[0m\u001b[1;33m\u001b[0m\u001b[0m\n\u001b[0;32m    658\u001b[0m             \u001b[1;32mfor\u001b[0m \u001b[0mfunction\u001b[0m\u001b[1;33m,\u001b[0m \u001b[0margs\u001b[0m\u001b[1;33m,\u001b[0m \u001b[0mkwargs\u001b[0m \u001b[1;32min\u001b[0m \u001b[0miterable\u001b[0m\u001b[1;33m:\u001b[0m\u001b[1;33m\u001b[0m\u001b[0m\n\u001b[1;32m--> 659\u001b[1;33m                 \u001b[0mself\u001b[0m\u001b[1;33m.\u001b[0m\u001b[0mdispatch\u001b[0m\u001b[1;33m(\u001b[0m\u001b[0mfunction\u001b[0m\u001b[1;33m,\u001b[0m \u001b[0margs\u001b[0m\u001b[1;33m,\u001b[0m \u001b[0mkwargs\u001b[0m\u001b[1;33m)\u001b[0m\u001b[1;33m\u001b[0m\u001b[0m\n\u001b[0m\u001b[0;32m    660\u001b[0m \u001b[1;33m\u001b[0m\u001b[0m\n\u001b[0;32m    661\u001b[0m             \u001b[1;32mif\u001b[0m \u001b[0mpre_dispatch\u001b[0m \u001b[1;33m==\u001b[0m \u001b[1;34m\"all\"\u001b[0m \u001b[1;32mor\u001b[0m \u001b[0mn_jobs\u001b[0m \u001b[1;33m==\u001b[0m \u001b[1;36m1\u001b[0m\u001b[1;33m:\u001b[0m\u001b[1;33m\u001b[0m\u001b[0m\n",
      "\u001b[1;32m/afs/cs.stanford.edu/u/williamleif/anaconda/lib/python2.7/site-packages/sklearn/externals/joblib/parallel.pyc\u001b[0m in \u001b[0;36mdispatch\u001b[1;34m(self, func, args, kwargs)\u001b[0m\n\u001b[0;32m    404\u001b[0m         \"\"\"\n\u001b[0;32m    405\u001b[0m         \u001b[1;32mif\u001b[0m \u001b[0mself\u001b[0m\u001b[1;33m.\u001b[0m\u001b[0m_pool\u001b[0m \u001b[1;32mis\u001b[0m \u001b[0mNone\u001b[0m\u001b[1;33m:\u001b[0m\u001b[1;33m\u001b[0m\u001b[0m\n\u001b[1;32m--> 406\u001b[1;33m             \u001b[0mjob\u001b[0m \u001b[1;33m=\u001b[0m \u001b[0mImmediateApply\u001b[0m\u001b[1;33m(\u001b[0m\u001b[0mfunc\u001b[0m\u001b[1;33m,\u001b[0m \u001b[0margs\u001b[0m\u001b[1;33m,\u001b[0m \u001b[0mkwargs\u001b[0m\u001b[1;33m)\u001b[0m\u001b[1;33m\u001b[0m\u001b[0m\n\u001b[0m\u001b[0;32m    407\u001b[0m             \u001b[0mindex\u001b[0m \u001b[1;33m=\u001b[0m \u001b[0mlen\u001b[0m\u001b[1;33m(\u001b[0m\u001b[0mself\u001b[0m\u001b[1;33m.\u001b[0m\u001b[0m_jobs\u001b[0m\u001b[1;33m)\u001b[0m\u001b[1;33m\u001b[0m\u001b[0m\n\u001b[0;32m    408\u001b[0m             \u001b[1;32mif\u001b[0m \u001b[1;32mnot\u001b[0m \u001b[0m_verbosity_filter\u001b[0m\u001b[1;33m(\u001b[0m\u001b[0mindex\u001b[0m\u001b[1;33m,\u001b[0m \u001b[0mself\u001b[0m\u001b[1;33m.\u001b[0m\u001b[0mverbose\u001b[0m\u001b[1;33m)\u001b[0m\u001b[1;33m:\u001b[0m\u001b[1;33m\u001b[0m\u001b[0m\n",
      "\u001b[1;32m/afs/cs.stanford.edu/u/williamleif/anaconda/lib/python2.7/site-packages/sklearn/externals/joblib/parallel.pyc\u001b[0m in \u001b[0;36m__init__\u001b[1;34m(self, func, args, kwargs)\u001b[0m\n\u001b[0;32m    138\u001b[0m         \u001b[1;31m# Don't delay the application, to avoid keeping the input\u001b[0m\u001b[1;33m\u001b[0m\u001b[1;33m\u001b[0m\u001b[0m\n\u001b[0;32m    139\u001b[0m         \u001b[1;31m# arguments in memory\u001b[0m\u001b[1;33m\u001b[0m\u001b[1;33m\u001b[0m\u001b[0m\n\u001b[1;32m--> 140\u001b[1;33m         \u001b[0mself\u001b[0m\u001b[1;33m.\u001b[0m\u001b[0mresults\u001b[0m \u001b[1;33m=\u001b[0m \u001b[0mfunc\u001b[0m\u001b[1;33m(\u001b[0m\u001b[1;33m*\u001b[0m\u001b[0margs\u001b[0m\u001b[1;33m,\u001b[0m \u001b[1;33m**\u001b[0m\u001b[0mkwargs\u001b[0m\u001b[1;33m)\u001b[0m\u001b[1;33m\u001b[0m\u001b[0m\n\u001b[0m\u001b[0;32m    141\u001b[0m \u001b[1;33m\u001b[0m\u001b[0m\n\u001b[0;32m    142\u001b[0m     \u001b[1;32mdef\u001b[0m \u001b[0mget\u001b[0m\u001b[1;33m(\u001b[0m\u001b[0mself\u001b[0m\u001b[1;33m)\u001b[0m\u001b[1;33m:\u001b[0m\u001b[1;33m\u001b[0m\u001b[0m\n",
      "\u001b[1;32m/afs/cs.stanford.edu/u/williamleif/anaconda/lib/python2.7/site-packages/sklearn/ensemble/forest.pyc\u001b[0m in \u001b[0;36m_parallel_build_trees\u001b[1;34m(tree, forest, X, y, sample_weight, tree_idx, n_trees, verbose, class_weight)\u001b[0m\n\u001b[0;32m     92\u001b[0m             \u001b[0mcurr_sample_weight\u001b[0m \u001b[1;33m*=\u001b[0m \u001b[0mcompute_sample_weight\u001b[0m\u001b[1;33m(\u001b[0m\u001b[1;34m'auto'\u001b[0m\u001b[1;33m,\u001b[0m \u001b[0my\u001b[0m\u001b[1;33m,\u001b[0m \u001b[0mindices\u001b[0m\u001b[1;33m)\u001b[0m\u001b[1;33m\u001b[0m\u001b[0m\n\u001b[0;32m     93\u001b[0m \u001b[1;33m\u001b[0m\u001b[0m\n\u001b[1;32m---> 94\u001b[1;33m         \u001b[0mtree\u001b[0m\u001b[1;33m.\u001b[0m\u001b[0mfit\u001b[0m\u001b[1;33m(\u001b[0m\u001b[0mX\u001b[0m\u001b[1;33m,\u001b[0m \u001b[0my\u001b[0m\u001b[1;33m,\u001b[0m \u001b[0msample_weight\u001b[0m\u001b[1;33m=\u001b[0m\u001b[0mcurr_sample_weight\u001b[0m\u001b[1;33m,\u001b[0m \u001b[0mcheck_input\u001b[0m\u001b[1;33m=\u001b[0m\u001b[0mFalse\u001b[0m\u001b[1;33m)\u001b[0m\u001b[1;33m\u001b[0m\u001b[0m\n\u001b[0m\u001b[0;32m     95\u001b[0m \u001b[1;33m\u001b[0m\u001b[0m\n\u001b[0;32m     96\u001b[0m         \u001b[0mtree\u001b[0m\u001b[1;33m.\u001b[0m\u001b[0mindices_\u001b[0m \u001b[1;33m=\u001b[0m \u001b[0msample_counts\u001b[0m \u001b[1;33m>\u001b[0m \u001b[1;36m0.\u001b[0m\u001b[1;33m\u001b[0m\u001b[0m\n",
      "\u001b[1;32m/afs/cs.stanford.edu/u/williamleif/anaconda/lib/python2.7/site-packages/sklearn/tree/tree.pyc\u001b[0m in \u001b[0;36mfit\u001b[1;34m(self, X, y, sample_weight, check_input)\u001b[0m\n\u001b[0;32m    302\u001b[0m                                            max_leaf_nodes)\n\u001b[0;32m    303\u001b[0m \u001b[1;33m\u001b[0m\u001b[0m\n\u001b[1;32m--> 304\u001b[1;33m         \u001b[0mbuilder\u001b[0m\u001b[1;33m.\u001b[0m\u001b[0mbuild\u001b[0m\u001b[1;33m(\u001b[0m\u001b[0mself\u001b[0m\u001b[1;33m.\u001b[0m\u001b[0mtree_\u001b[0m\u001b[1;33m,\u001b[0m \u001b[0mX\u001b[0m\u001b[1;33m,\u001b[0m \u001b[0my\u001b[0m\u001b[1;33m,\u001b[0m \u001b[0msample_weight\u001b[0m\u001b[1;33m)\u001b[0m\u001b[1;33m\u001b[0m\u001b[0m\n\u001b[0m\u001b[0;32m    305\u001b[0m \u001b[1;33m\u001b[0m\u001b[0m\n\u001b[0;32m    306\u001b[0m         \u001b[1;32mif\u001b[0m \u001b[0mself\u001b[0m\u001b[1;33m.\u001b[0m\u001b[0mn_outputs_\u001b[0m \u001b[1;33m==\u001b[0m \u001b[1;36m1\u001b[0m\u001b[1;33m:\u001b[0m\u001b[1;33m\u001b[0m\u001b[0m\n",
      "\u001b[1;31mKeyboardInterrupt\u001b[0m: "
     ]
    }
   ],
   "source": [
    "from sklearn.ensemble import RandomForestRegressor\n",
    "random.seed(10)\n",
    "years = range(1980, 1990, 1)\n",
    "mod_trees = collections.defaultdict(dict)\n",
    "vol_trees = collections.defaultdict(dict)\n",
    "full_trees = collections.defaultdict(dict)\n",
    "mean_mse = {}\n",
    "mean_errs = {}\n",
    "for year in years:\n",
    "    X, y = make_mats(train_df, [\"extent\", \"centr\", \"clust\", \"con\", \"vol\"], year, \"freq\", year + 10)\n",
    "    X_t, y_t = make_mats(dev_df, [\"extent\", \"centr\", \"clust\", \"con\", \"vol\"], year, \"freq\", year + 10)\n",
    "    mod = RandomForestRegressor(n_estimators=100, min_samples_split=1)\n",
    "    mod.fit(X, y)\n",
    "    mod_trees[\"fit\"][year] = mod\n",
    "    mod_trees[\"mse\"][year] = np.mean((mod.predict(X_t) - y_t) ** 2.0)\n",
    "    mod_trees[\"tau\"][year] = sp.stats.kendalltau(mod.predict(X_t), y_t)\n",
    "    mod_trees[\"errs\"][year] = (mod.predict(X_t) - y_t) ** 2.0\n",
    "\n",
    "    \n",
    "    X, y = make_mats(train_df, [\"freq\"], year, \"freq\", year + 10)\n",
    "    X_t, y_t = make_mats(dev_df, [\"freq\"], year, \"freq\", year + 10)\n",
    "    mod = RandomForestRegressor(n_estimators=100, min_samples_split=1)\n",
    "    mod.fit(X, y)\n",
    "    vol_trees[\"fit\"][year] = mod\n",
    "    vol_trees[\"mse\"][year] = np.mean((mod.predict(X_t) - y_t) ** 2.0)\n",
    "    vol_trees[\"tau\"][year] = sp.stats.kendalltau(mod.predict(X_t), y_t)\n",
    "    vol_trees[\"errs\"][year] = (mod.predict(X_t) - y_t) ** 2.0\n",
    "    \n",
    "    X, y = make_mats(train_df, [\"freq\", \"extent\", \"centr\", \"clust\", \"con\", \"vol\"], year, \"freq\", year + 10)\n",
    "    X_t, y_t = make_mats(dev_df, [\"freq\", \"extent\", \"centr\", \"clust\", \"con\", \"vol\"], year, \"freq\", year + 10)\n",
    "    mod = RandomForestRegressor(n_estimators=100, min_samples_split=1)\n",
    "    mod.fit(X, y)\n",
    "    full_trees[\"fit\"][year] = mod\n",
    "    full_trees[\"mse\"][year] = np.mean((mod.predict(X_t) - y_t) ** 2.0)\n",
    "    full_trees[\"tau\"][year] = sp.stats.kendalltau(mod.predict(X_t), y_t)\n",
    "    full_trees[\"errs\"][year] = (mod.predict(X_t) - y_t) ** 2.0\n",
    "    \n",
    "    mean_mse[year] = np.mean((y.mean() - y_t) ** 2.0)\n",
    "    mean_errs[year] = (y.mean() - y_t) ** 2.0"
   ]
  },
  {
   "cell_type": "code",
   "execution_count": 36,
   "metadata": {
    "collapsed": false
   },
   "outputs": [],
   "source": [
    "years = range(1980, 1990, 1)\n",
    "f_Xs, f_ys, f_Xts, f_yts = make_ts_mats(train_df, dev_df, [\"freq\", \"extent\", \"centr\", \"clust\", \"con\", \"vol\", \"knn_sum\"], \"freq\", years)\n",
    "b_Xs, b_ys, b_Xts, b_yts = make_ts_mats(train_df, dev_df, [\"freq\"], \"freq\", years)"
   ]
  },
  {
   "cell_type": "code",
   "execution_count": null,
   "metadata": {
    "collapsed": false
   },
   "outputs": [],
   "source": [
    "f_mod = RandomForestRegressor(n_estimators=1000, min_samples_split=1)\n",
    "f_mod.fit(f_Xs, f_ys)\n",
    "b_mod = RandomForestRegressor(n_estimators=1000, min_samples_split=1)\n",
    "b_mod.fit(b_Xs, b_ys)"
   ]
  },
  {
   "cell_type": "code",
   "execution_count": 164,
   "metadata": {
    "collapsed": false
   },
   "outputs": [
    {
     "data": {
      "text/plain": [
       "<Container object of 5 artists>"
      ]
     },
     "execution_count": 164,
     "metadata": {},
     "output_type": "execute_result"
    },
    {
     "data": {
      "image/png": "[encoded data removed]",
      "text/plain": [
       "<matplotlib.figure.Figure at 0x7fcb166ff910>"
      ]
     },
     "metadata": {},
     "output_type": "display_data"
    }
   ],
   "source": [
    "plt.bar(np.arange(len(vol_trees[\"fit\"][1950].feature_importances_)), vol_trees[\"fit\"][1950].feature_importances_)"
   ]
  },
  {
   "cell_type": "code",
   "execution_count": 22,
   "metadata": {
    "collapsed": false
   },
   "outputs": [
    {
     "ename": "ValueError",
     "evalue": "Input vector needs to be bigger than window size.",
     "output_type": "error",
     "traceback": [
      "\u001b[1;31m---------------------------------------------------------------------------\u001b[0m",
      "\u001b[1;31mValueError\u001b[0m                                Traceback (most recent call last)",
      "\u001b[1;32m<ipython-input-22-3528158b7aa4>\u001b[0m in \u001b[0;36m<module>\u001b[1;34m()\u001b[0m\n\u001b[0;32m      3\u001b[0m \u001b[0mxs\u001b[0m \u001b[1;33m=\u001b[0m \u001b[1;33m(\u001b[0m\u001b[0mnp\u001b[0m\u001b[1;33m.\u001b[0m\u001b[0marray\u001b[0m\u001b[1;33m(\u001b[0m\u001b[0myears\u001b[0m\u001b[1;33m)\u001b[0m \u001b[1;33m-\u001b[0m \u001b[1;36m2000\u001b[0m\u001b[1;33m)\u001b[0m\u001b[1;33m\u001b[0m\u001b[0m\n\u001b[0;32m      4\u001b[0m \u001b[0m_\u001b[0m\u001b[1;33m,\u001b[0m \u001b[0max\u001b[0m \u001b[1;33m=\u001b[0m \u001b[0mplt\u001b[0m\u001b[1;33m.\u001b[0m\u001b[0msubplots\u001b[0m\u001b[1;33m(\u001b[0m\u001b[1;36m1\u001b[0m\u001b[1;33m,\u001b[0m\u001b[1;36m1\u001b[0m\u001b[1;33m)\u001b[0m\u001b[1;33m\u001b[0m\u001b[0m\n\u001b[1;32m----> 5\u001b[1;33m \u001b[0max\u001b[0m\u001b[1;33m.\u001b[0m\u001b[0mplot\u001b[0m\u001b[1;33m(\u001b[0m\u001b[0mxs\u001b[0m\u001b[1;33m,\u001b[0m \u001b[0mplothelper\u001b[0m\u001b[1;33m.\u001b[0m\u001b[0msmooth\u001b[0m\u001b[1;33m(\u001b[0m\u001b[0mnp\u001b[0m\u001b[1;33m.\u001b[0m\u001b[0marray\u001b[0m\u001b[1;33m(\u001b[0m\u001b[0mmod_trees\u001b[0m\u001b[1;33m[\u001b[0m\u001b[1;34m\"mse\"\u001b[0m\u001b[1;33m]\u001b[0m\u001b[1;33m.\u001b[0m\u001b[0mvalues\u001b[0m\u001b[1;33m(\u001b[0m\u001b[1;33m)\u001b[0m\u001b[1;33m)\u001b[0m\u001b[1;33m,\u001b[0m \u001b[0mwindow_len\u001b[0m\u001b[1;33m=\u001b[0m\u001b[1;36m7\u001b[0m\u001b[1;33m)\u001b[0m\u001b[1;33m)\u001b[0m\u001b[1;33m\u001b[0m\u001b[0m\n\u001b[0m\u001b[0;32m      6\u001b[0m \u001b[0max\u001b[0m\u001b[1;33m.\u001b[0m\u001b[0mplot\u001b[0m\u001b[1;33m(\u001b[0m\u001b[0mxs\u001b[0m\u001b[1;33m,\u001b[0m \u001b[0mplothelper\u001b[0m\u001b[1;33m.\u001b[0m\u001b[0msmooth\u001b[0m\u001b[1;33m(\u001b[0m\u001b[0mnp\u001b[0m\u001b[1;33m.\u001b[0m\u001b[0marray\u001b[0m\u001b[1;33m(\u001b[0m\u001b[0mvol_trees\u001b[0m\u001b[1;33m[\u001b[0m\u001b[1;34m\"mse\"\u001b[0m\u001b[1;33m]\u001b[0m\u001b[1;33m.\u001b[0m\u001b[0mvalues\u001b[0m\u001b[1;33m(\u001b[0m\u001b[1;33m)\u001b[0m\u001b[1;33m)\u001b[0m\u001b[1;33m,\u001b[0m \u001b[0mwindow_len\u001b[0m\u001b[1;33m=\u001b[0m\u001b[1;36m7\u001b[0m\u001b[1;33m)\u001b[0m\u001b[1;33m)\u001b[0m\u001b[1;33m\u001b[0m\u001b[0m\n\u001b[0;32m      7\u001b[0m \u001b[0max\u001b[0m\u001b[1;33m.\u001b[0m\u001b[0mplot\u001b[0m\u001b[1;33m(\u001b[0m\u001b[0mxs\u001b[0m\u001b[1;33m,\u001b[0m \u001b[0mplothelper\u001b[0m\u001b[1;33m.\u001b[0m\u001b[0msmooth\u001b[0m\u001b[1;33m(\u001b[0m\u001b[0mnp\u001b[0m\u001b[1;33m.\u001b[0m\u001b[0marray\u001b[0m\u001b[1;33m(\u001b[0m\u001b[0mfull_trees\u001b[0m\u001b[1;33m[\u001b[0m\u001b[1;34m\"mse\"\u001b[0m\u001b[1;33m]\u001b[0m\u001b[1;33m.\u001b[0m\u001b[0mvalues\u001b[0m\u001b[1;33m(\u001b[0m\u001b[1;33m)\u001b[0m\u001b[1;33m)\u001b[0m\u001b[1;33m,\u001b[0m \u001b[0mwindow_len\u001b[0m\u001b[1;33m=\u001b[0m\u001b[1;36m7\u001b[0m\u001b[1;33m)\u001b[0m\u001b[1;33m)\u001b[0m\u001b[1;33m\u001b[0m\u001b[0m\n",
      "\u001b[1;32m/afs/cs.stanford.edu/u/wleif/langchange/statutils/plothelper.pyc\u001b[0m in \u001b[0;36msmooth\u001b[1;34m(x, window_len, window)\u001b[0m\n\u001b[0;32m    141\u001b[0m \u001b[1;33m\u001b[0m\u001b[0m\n\u001b[0;32m    142\u001b[0m     \u001b[1;32mif\u001b[0m \u001b[0mx\u001b[0m\u001b[1;33m.\u001b[0m\u001b[0msize\u001b[0m \u001b[1;33m<\u001b[0m \u001b[0mwindow_len\u001b[0m\u001b[1;33m:\u001b[0m\u001b[1;33m\u001b[0m\u001b[0m\n\u001b[1;32m--> 143\u001b[1;33m         \u001b[1;32mraise\u001b[0m \u001b[0mValueError\u001b[0m\u001b[1;33m,\u001b[0m \u001b[1;34m\"Input vector needs to be bigger than window size.\"\u001b[0m\u001b[1;33m\u001b[0m\u001b[0m\n\u001b[0m\u001b[0;32m    144\u001b[0m \u001b[1;33m\u001b[0m\u001b[0m\n\u001b[0;32m    145\u001b[0m \u001b[1;33m\u001b[0m\u001b[0m\n",
      "\u001b[1;31mValueError\u001b[0m: Input vector needs to be bigger than window size."
     ]
    },
    {
     "data": {
      "image/png": "[encoded data removed]",
      "text/plain": [
       "<matplotlib.figure.Figure at 0x7fcb6a8daf90>"
      ]
     },
     "metadata": {},
     "output_type": "display_data"
    }
   ],
   "source": [
    "sns.set_style(\"darkgrid\")\n",
    "means = np.array(mean_mse.values())\n",
    "xs = (np.array(years) - 2000)\n",
    "_, ax = plt.subplots(1,1)\n",
    "ax.plot(xs, plothelper.smooth(np.array(mod_trees[\"mse\"].values()), window_len=7))\n",
    "ax.plot(xs, plothelper.smooth(np.array(vol_trees[\"mse\"].values()), window_len=7))\n",
    "ax.plot(xs, plothelper.smooth(np.array(full_trees[\"mse\"].values()), window_len=7))\n",
    "ax.legend([\"Model\", \"Vol. Only\", \"Model + Vol.\"], loc='lower left')\n",
    "ax.set_xlabel(\"Prediction Horizon (Years)\")\n",
    "ax.set_ylabel(\"Prediction Error (MSE)\")\n",
    "ax.set_xticklabels(np.arange(50, -1, -10))"
   ]
  },
  {
   "cell_type": "code",
   "execution_count": 65,
   "metadata": {
    "collapsed": true
   },
   "outputs": [],
   "source": [
    "Xv_t, yv_t = make_mats(dev_df, [\"freq\"], year, \"freq\", 2000)"
   ]
  },
  {
   "cell_type": "code",
   "execution_count": 165,
   "metadata": {
    "collapsed": false
   },
   "outputs": [
    {
     "name": "stdout",
     "output_type": "stream",
     "text": [
      "0.308547997244 0.262888859086\n"
     ]
    }
   ],
   "source": [
    "print vol_trees[\"mse\"][1950], full_trees[\"mse\"][1950]"
   ]
  },
  {
   "cell_type": "code",
   "execution_count": 166,
   "metadata": {
    "collapsed": false
   },
   "outputs": [
    {
     "data": {
      "text/plain": [
       "(3.2925644860283145, 0.0010728369756097687)"
      ]
     },
     "execution_count": 166,
     "metadata": {},
     "output_type": "execute_result"
    }
   ],
   "source": [
    "sp.stats.ttest_rel(vol_trees[\"errs\"][1950], full_trees[\"errs\"][1950])"
   ]
  },
  {
   "cell_type": "code",
   "execution_count": 94,
   "metadata": {
    "collapsed": false
   },
   "outputs": [
    {
     "data": {
      "text/plain": [
       "<matplotlib.text.Text at 0x7fcb7acb7d90>"
      ]
     },
     "execution_count": 94,
     "metadata": {},
     "output_type": "execute_result"
    },
    {
     "data": {
      "image/png": "[encoded data removed]",
      "text/plain": [
       "<matplotlib.figure.Figure at 0x7fcb173cd590>"
      ]
     },
     "metadata": {},
     "output_type": "display_data"
    }
   ],
   "source": [
    "plt.rcParams[\"figure.figsize\"] = (3.7, 3)\n",
    "temp_df = pd.DataFrame()\n",
    "#temp_df[\"Baseline \\n (Mean)\"] = mean_errs[1950] \n",
    "temp_df[\"Model\"] = mod_trees[\"errs\"][1950]\n",
    "temp_df[\"Baseline \\n (Vol. Only)\"] = vol_trees[\"errs\"][1950] \n",
    "temp_df[\"Model + Vol.\"] = full_trees[\"errs\"][1950]\n",
    "ax = sns.barplot(data=temp_df)\n",
    "plt.ylabel(\"50-year Prediction Error (MSE)\")\n",
    "y_max = 0.009\n",
    "y_min = 0.0\n",
    "ax.annotate(\"\", xy=(1, y_max), xycoords='data',\n",
    "           xytext=(3, y_max), textcoords='data',\n",
    "           arrowprops=dict(arrowstyle=\"-\", color='black',\n",
    "                           connectionstyle=\"bar,fraction=0.2\"))\n",
    "ax.text(2, y_max + abs(y_max - y_min)*0.2, \"***\", fontsize=14,\n",
    "       horizontalalignment='center',\n",
    "       verticalalignment='center')"
   ]
  },
  {
   "cell_type": "code",
   "execution_count": 99,
   "metadata": {
    "collapsed": false
   },
   "outputs": [
    {
     "data": {
      "text/plain": [
       "<matplotlib.text.Text at 0x7f7940027a90>"
      ]
     },
     "execution_count": 99,
     "metadata": {},
     "output_type": "execute_result"
    },
    {
     "data": {
      "image/png": "[encoded data removed]",
      "text/plain": [
       "<matplotlib.figure.Figure at 0x7f796419f750>"
      ]
     },
     "metadata": {},
     "output_type": "display_data"
    }
   ],
   "source": [
    "plt.rcParams[\"figure.figsize\"] = (3.7, 3)\n",
    "temp_df = pd.DataFrame()\n",
    "temp_df[\"Baseline \\n (Vol. Only)\"] = vol_trees[\"tau\"][1950] \n",
    "temp_df[\"Model\"] = mod_trees[\"tau\"][1950]\n",
    "temp_df[\"Model + Vol.\"] = full_trees[\"tau\"][1950]\n",
    "ax = sns.barplot(data=temp_df, ci=None)\n",
    "plt.ylabel(\"50-year Prediction Error (Kendall's $\\tau$)\")"
   ]
  },
  {
   "cell_type": "code",
   "execution_count": null,
   "metadata": {
    "collapsed": true
   },
   "outputs": [],
   "source": []
  }
 ],
 "metadata": {
  "kernelspec": {
   "display_name": "Python 2",
   "language": "python",
   "name": "python2"
  },
  "language_info": {
   "codemirror_mode": {
    "name": "ipython",
    "version": 2
   },
   "file_extension": ".py",
   "mimetype": "text/x-python",
   "name": "python",
   "nbconvert_exporter": "python",
   "pygments_lexer": "ipython2",
   "version": "2.7.9"
  }
 },
 "nbformat": 4,
 "nbformat_minor": 0
}
