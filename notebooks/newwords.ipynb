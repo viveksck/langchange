{
 "cells": [
  {
   "cell_type": "code",
   "execution_count": 141,
   "metadata": {
    "collapsed": true
   },
   "outputs": [],
   "source": [
    "#Basic imports\n",
    "import sys\n",
    "\n",
    "import matplotlib\n",
    "import numpy as np\n",
    "import matplotlib.pyplot as plt\n",
    "import scipy as sp\n",
    "import seaborn as sns\n",
    "import collections\n",
    "\n",
    "DATA_DIR = \"/dfs/scratch0/googlengrams/2012-eng-fic/\"\n",
    "sys.path.append(\"../langchange\")\n",
    "\n",
    "import ioutils as util\n",
    "from cooccurrence import matstore\n",
    "from statutils import plothelper, changepoint, trendestimator, seriesanalysis, mixedmodels\n",
    "\n",
    "%matplotlib inline"
   ]
  },
  {
   "cell_type": "code",
   "execution_count": 352,
   "metadata": {
    "collapsed": true
   },
   "outputs": [],
   "source": [
    "year_words = util.load_pickle(DATA_DIR + \"/info/freqnonstop_peryear-1900-2000-7.pkl\")"
   ]
  },
  {
   "cell_type": "code",
   "execution_count": 353,
   "metadata": {
    "collapsed": false
   },
   "outputs": [],
   "source": [
    "# Loading basic word and frequency info\n",
    "years = np.arange(1900, 2001)\n",
    "freqs = util.load_pickle(DATA_DIR + \"/info/freqnonstop_peryear-1900-2000-7-freqs.pkl\")\n",
    "# top year words contains only top 20000 words per year"
   ]
  },
  {
   "cell_type": "code",
   "execution_count": 354,
   "metadata": {
    "collapsed": false
   },
   "outputs": [],
   "source": [
    "#loading freq info\n",
    "top_year_words = {}\n",
    "for year, words in year_words.iteritems():\n",
    "    top_year_words[year] = words[:10000]\n",
    "all_words = set([word for year_words_list in top_year_words.values() for word in year_words])\n",
    "year_freqs = collections.defaultdict(lambda : collections.defaultdict(lambda : float('nan')))\n",
    "for year, words in top_year_words.iteritems():\n",
    "    for word in words:\n",
    "        year_freqs[word][year] = freqs[word][year]"
   ]
  },
  {
   "cell_type": "code",
   "execution_count": 335,
   "metadata": {
    "collapsed": true
   },
   "outputs": [],
   "source": [
    "# Load word lists\n",
    "brown = util.load_word_list(MISC_DIR + \"/brownwords.txt\")\n",
    "concrete = util.load_word_list(MISC_DIR + \"/concretewords.txt\")\n",
    "abstract = util.load_word_list(MISC_DIR \"/abstractwords.txt\")\n",
    "concrete_cmn = util.load_word_list(MISC_DIR + \"/concretewords-cmn.txt\")\n",
    "abs_cmn = util.load_word_list(MISC_DIR + \"/abstractwords-cmn.txt\")\n",
    "nouns = util.load_word_list(MISC_DIR + \"/nouns.txt\")\n",
    "adjs = util.load_word_list(MISC_DIR + \"/adjs.txt\")\n",
    "verbs = util.load_word_list(MISC_DIR + \"/misc/verbs.txt\")\n",
    "advs = util.load_word_list(MISC_DIR + \"/advs.txt\")"
   ]
  },
  {
   "cell_type": "code",
   "execution_count": 355,
   "metadata": {
    "collapsed": true
   },
   "outputs": [],
   "source": [
    "# loading stats\n",
    "# sums = magnitude, clusts = - polysemy, vols = rate of change, cents = centrality, knn_sums = sim. with nearest neighbours\n",
    "sums = util.load_pickle(DATA_DIR + \"/nppmi_conf/lsmooth10/netstats/freqnonstop_peryear-1900-2000-7-top20000-sum.pkl\")\n",
    "clusts = util.load_pickle(DATA_DIR + \"/nppmi_conf/lsmooth10/netstats/freqnonstop_peryear-1900-2000-7-top20000-weighted.pkl\")\n",
    "vols =  util.load_pickle(DATA_DIR + \"/nppmi_conf/lsmooth10/volstats/freqnonstop_peryear-1900-2000-7-0.0-top20000-vols.pkl\")\n",
    "cents = util.load_pickle(DATA_DIR + \"/nppmi_conf/lsmooth10/secondnetstats-0-None/freqnonstop_peryear-1900-2000-7-top20000-sum.pkl\")\n",
    "knn_sums = util.load_pickle(DATA_DIR + \"/nppmi_conf/lsmooth10/secondnetstats-0-5/freqnonstop_peryear-1900-2000-7-top20000-sum.pkl\")\n",
    "disps =  util.load_pickle(DATA_DIR + \"/nppmi_conf/lsmooth10/volstats/freqnonstop_peryear-1900-2000-7-0.0-top20000-disps.pkl\")"
   ]
  },
  {
   "cell_type": "code",
   "execution_count": 356,
   "metadata": {
    "collapsed": true
   },
   "outputs": [],
   "source": [
    "# log transform as necessary\n",
    "log_freqs = collections.defaultdict(lambda : collections.defaultdict(lambda : float('nan')))\n",
    "for word, vals in year_freqs.iteritems():\n",
    "    for year, freq in vals.iteritems():\n",
    "        log_freqs[word][year] = np.log(freq)\n",
    "log_sums = {word:{year:np.log(sum) for year, sum in vals.iteritems()} for word, vals in sums.iteritems()}\n",
    "log_clusts = {word:{year:np.log(clust) for year, clust in vals.iteritems()} for word, vals in clusts.iteritems()}\n",
    "log_cents = {word:{year:np.log(cent) for year, cent in vals.iteritems()} for word, vals in cents.iteritems()}\n",
    "log_knn_sums = {word:{year:np.log(sum) for year, sum in vals.iteritems()} for word, vals in knn_sums.iteritems()}"
   ]
  },
  {
   "cell_type": "code",
   "execution_count": 359,
   "metadata": {
    "collapsed": false
   },
   "outputs": [],
   "source": [
    "# get means\n",
    "log_freqs_med = seriesanalysis.get_series_mean_std_peryear(log_freqs, top_year_words)[0]\n",
    "log_sums_med = seriesanalysis.get_series_mean_std_peryear(log_sums, top_year_words)[0]\n",
    "log_clusts_med = seriesanalysis.get_series_mean_std_peryear(log_clusts, top_year_words)[0]\n",
    "log_cents_med = seriesanalysis.get_series_mean_std_peryear(log_cents, top_year_words)[0]\n",
    "log_knn_sums_med = seriesanalysis.get_series_mean_std_peryear(log_knn_sums, top_year_words)[0]"
   ]
  },
  {
   "cell_type": "code",
   "execution_count": 360,
   "metadata": {
    "collapsed": false
   },
   "outputs": [],
   "source": [
    "# Get successful new words\n",
    "succ =  trendestimator.get_successful_new_words(year_freqs, s_buff=10, e_buff=10, not_present_min=0.1)"
   ]
  },
  {
   "cell_type": "code",
   "execution_count": 372,
   "metadata": {
    "collapsed": false
   },
   "outputs": [],
   "source": [
    "# Get unsuccessful new words\n",
    "unsucc =  trendestimator.get_unsuccessful_new_words(year_freqs, s_buff=10, e_buff=10, not_present_max=0.95, not_present_min=0.2)"
   ]
  },
  {
   "cell_type": "code",
   "execution_count": 1137,
   "metadata": {
    "collapsed": false
   },
   "outputs": [],
   "source": [
    "# Function used to get nearest neighbours of a new word for their first ten years after birth. \n",
    "def get_seq_closest(embeds, word, start_year, num_years=10, n=15):\n",
    "    closest = collections.defaultdict(float)\n",
    "    for year in range(start_year, start_year + num_years):\n",
    "        year_closest = embeds.get_embed(year).closest(word, n=100*n)\n",
    "        for score, neigh in year_closest:\n",
    "            closest[neigh] += score\n",
    "    return sorted(closest, key = lambda neigh : closest[neigh], reverse=True)[0:n+1]"
   ]
  },
  {
   "cell_type": "code",
   "execution_count": null,
   "metadata": {
    "collapsed": true
   },
   "outputs": [],
   "source": [
    "# e.g., get words closest to fuck after it entered the core lexicon\n",
    "get_seq_closest(first_orders, \"fuck\", 1965, n=10)"
   ]
  },
  {
   "cell_type": "code",
   "execution_count": null,
   "metadata": {
    "collapsed": true
   },
   "outputs": [],
   "source": [
    "# get the year-2000 frequency rank of fuck\n",
    "year_words[2000].index(\"fuck\")"
   ]
  },
  {
   "cell_type": "code",
   "execution_count": 371,
   "metadata": {
    "collapsed": true
   },
   "outputs": [],
   "source": [
    "# Remove words from new word sets that were manually labeled as proper nounds\n",
    "bad_succ = set(util.load_word_list(\"/dfs/scratch0/googlengrams/misc/succ-new-words.txt\"))\n",
    "bad_unsucc = set(util.load_word_list(\"/dfs/scratch0/googlengrams/misc/unsucc-new-words.txt\"))\n",
    "succ = {word:year for word, year in succ.iteritems() if not word in bad_succ}\n",
    "unsucc = {word:year for word, year in unsucc.iteritems() if not word in bad_unsucc}"
   ]
  },
  {
   "cell_type": "code",
   "execution_count": 378,
   "metadata": {
    "collapsed": false
   },
   "outputs": [],
   "source": [
    "# function to statistics about new word in years after its birth\n",
    "def make_newwords_stat_series(word_births, val_func, years=30):\n",
    "    series = collections.defaultdict(dict)\n",
    "    for word, birth_year in word_births.iteritems():\n",
    "        if birth_year > 1970:\n",
    "            continue\n",
    "        for i, year in enumerate(range(birth_year, birth_year + years)):\n",
    "            val = val_func(word, year)\n",
    "            if val == -1*np.inf:\n",
    "                series[word][i] = np.nan\n",
    "                continue\n",
    "            series[word][i] = val\n",
    "    return series\n",
    "knn_func = lambda word, year : log_knn_sums[word][year] - log_knn_sums_med[year - 1900]\n",
    "knn_s_series =  make_newwords_stat_series(succ, knn_func)\n",
    "knn_u_series =  make_newwords_stat_series(unsucc, knn_func)\n",
    "sum_func = lambda word, year : np.log(sums[word][year]) - log_sums_med[year - 1900]\n",
    "sum_s_series =  make_newwords_stat_series(succ, sum_func)\n",
    "sum_u_series =  make_newwords_stat_series(unsucc, sum_func)\n",
    "freq_func = lambda word, year : np.log(year_freqs[word][year]) - log_freqs_med[year - 1900]\n",
    "freq_s_series =  make_newwords_stat_series(succ, freq_func)\n",
    "freq_u_series =  make_newwords_stat_series(unsucc, freq_func)\n",
    "clust_func = lambda word, year : np.log(clusts[word][year]) - log_clusts_med[year - 1900]\n",
    "clust_s_series =  make_newwords_stat_series(succ, clust_func)\n",
    "clust_u_series =  make_newwords_stat_series(unsucc, clust_func)"
   ]
  },
  {
   "cell_type": "code",
   "execution_count": 409,
   "metadata": {
    "collapsed": false
   },
   "outputs": [
    {
     "data": {
      "image/png": "[encoded data removed]",
      "text/plain": [
       "<matplotlib.figure.Figure at 0x7fd712a03c90>"
      ]
     },
     "metadata": {},
     "output_type": "display_data"
    }
   ],
   "source": [
    "# Make figure 3a,b,c from the paper\n",
    "s_series = succ\n",
    "u_series = unsucc\n",
    "sns.set_style(\"white\")\n",
    "sfreq = seriesanalysis.get_series_mean_std(freq_s_series, freq_s_series.keys(), start_year=0, end_year=29)[0]\n",
    "ufreq = seriesanalysis.get_series_mean_std(freq_u_series, freq_u_series.keys(), start_year=0, end_year=29)[0]\n",
    "sns.set_context(\"paper\")\n",
    "sns.set_style(\"white\")\n",
    "plt.rcParams[\"lines.linewidth\"] = 0.5\n",
    "plt.rcParams[\"patch.linewidth\"] = 0.5\n",
    "plt.rcParams[\"grid.linewidth\"] = 1.0\n",
    "plt.rcParams[\"axes.linewidth\"] = 1.0\n",
    "plt.rcParams[\"ytick.major.size\"] = 4\n",
    "plt.rcParams[\"ytick.major.width\"] = 1\n",
    "plt.rcParams[\"xtick.major.size\"] = 4\n",
    "plt.rcParams[\"xtick.major.width\"] = 1\n",
    "plt.rcParams[\"ytick.minor.size\"] = 2\n",
    "plt.rcParams[\"xtick.minor.size\"] = 2\n",
    "plt.rcParams[\"ytick.minor.width\"] = 0.75\n",
    "plt.rcParams[\"xtick.minor.width\"] = 0.75\n",
    "#plt.rcParams[\"legend.fontsize\"] = 7\n",
    "plt.rcParams[\"figure.figsize\"] = (7.5, 2.5)\n",
    "fig, axs = plt.subplots(1,3)\n",
    "sns.set_palette(\"dark\")\n",
    "ax = sns.regplot(np.arange(0,30), sfreq, marker='^', line_kws={'ls' : '-', 'lw' : 0.5},\n",
    "                 scatter_kws={'s':5, 'linewidths' : (1,1)}, ax=axs[0])\n",
    "sns.regplot(np.arange(0,30), ufreq, ax=ax, marker='o', line_kws={'ls' : '--', 'lw' : 0.5},\n",
    "             scatter_kws={'s':5, 'linewidths' : (1,1)})\n",
    "axs[0].set_xlim(0, 30)\n",
    "#axs[0].set_ylim(-1.0, -0.4)\n",
    "axs[0].legend([\"Successful\", \"Unsuccessful\"], loc='upper right')\n",
    "axs[0].set_ylabel(\"Relative frequency\")\n",
    "ssum = seriesanalysis.get_series_mean_std(sum_s_series, s_series.keys(), start_year=0, end_year=29)[0]\n",
    "usum = seriesanalysis.get_series_mean_std(sum_u_series, u_series.keys(), start_year=0, end_year=29)[0]\n",
    "ax = sns.regplot(np.arange(0,30), ssum, marker='^', line_kws={'ls' : '-', 'lw' : 1},\n",
    "                 scatter_kws={'s':5, 'linewidths' : (1,1)}, ax=axs[1], color=sns.color_palette()[0])\n",
    "sns.regplot(np.arange(0,30), usum, ax=ax, marker='o', line_kws={'ls' : '--', 'lw' : 1},\n",
    "             scatter_kws={'s':5, 'linewidths' : (1,1)}, color=sns.color_palette()[1])\n",
    "axs[1].set_xlim(0, 30)\n",
    "#axs[1].set_ylim(-1.4, -0.9)\n",
    "axs[1].set_ylabel(\"Relative centrality\")\n",
    "sknn = seriesanalysis.get_series_mean_std(knn_s_series, s_series.keys(), start_year=0, end_year=29)[0]\n",
    "uknn = seriesanalysis.get_series_mean_std(knn_u_series, u_series.keys(), start_year=0, end_year=29)[0]\n",
    "ax = sns.regplot(np.arange(0,30), sknn, marker='^', line_kws={'ls' : '-', 'lw' : 0.5},\n",
    "                 scatter_kws={'s':5, 'linewidths' : (1,1)}, ax=axs[2], color=sns.color_palette()[0])\n",
    "sns.regplot(np.arange(0,30), uknn, ax=ax, marker='o', line_kws={'ls' : '--', 'lw' : 0.5},\n",
    "             scatter_kws={'s':5, 'linewidths' : (1,1)}, color=sns.color_palette()[1])\n",
    "axs[2].set_xlim(0, 30)\n",
    "axs[2].set_ylim(0.3, 0.6)\n",
    "axs[2].set_ylabel(\"Relative sim. to nearest neighbours\")\n",
    "axs[1].set_xlabel(\"Years since birth\")\n",
    "axs[0].minorticks_on()\n",
    "axs[1].minorticks_on()\n",
    "axs[2].minorticks_on()\n",
    "sns.despine()\n",
    "plt.tight_layout()\n",
    "for axis in ['top','bottom','left','right']:\n",
    "    for subplot in [0,1,2]:\n",
    "        axs[subplot].spines[axis].set_linewidth(0.8)\n",
    "plt.savefig(\"newwords.pdf\")"
   ]
  },
  {
   "cell_type": "code",
   "execution_count": 399,
   "metadata": {
    "collapsed": false
   },
   "outputs": [
    {
     "data": {
      "text/html": [
       "<table class=\"simpletable\">\n",
       "<caption>OLS Regression Results</caption>\n",
       "<tr>\n",
       "  <th>Dep. Variable:</th>            <td>y</td>        <th>  R-squared:         </th> <td>   0.004</td>\n",
       "</tr>\n",
       "<tr>\n",
       "  <th>Model:</th>                   <td>OLS</td>       <th>  Adj. R-squared:    </th> <td>  -0.031</td>\n",
       "</tr>\n",
       "<tr>\n",
       "  <th>Method:</th>             <td>Least Squares</td>  <th>  F-statistic:       </th> <td>  0.1154</td>\n",
       "</tr>\n",
       "<tr>\n",
       "  <th>Date:</th>             <td>Sat, 10 Oct 2015</td> <th>  Prob (F-statistic):</th>  <td> 0.737</td> \n",
       "</tr>\n",
       "<tr>\n",
       "  <th>Time:</th>                 <td>22:34:55</td>     <th>  Log-Likelihood:    </th> <td>  51.906</td>\n",
       "</tr>\n",
       "<tr>\n",
       "  <th>No. Observations:</th>      <td>    30</td>      <th>  AIC:               </th> <td>  -99.81</td>\n",
       "</tr>\n",
       "<tr>\n",
       "  <th>Df Residuals:</th>          <td>    28</td>      <th>  BIC:               </th> <td>  -97.01</td>\n",
       "</tr>\n",
       "<tr>\n",
       "  <th>Df Model:</th>              <td>     1</td>      <th>                     </th>     <td> </td>   \n",
       "</tr>\n",
       "<tr>\n",
       "  <th>Covariance Type:</th>      <td>nonrobust</td>    <th>                     </th>     <td> </td>   \n",
       "</tr>\n",
       "</table>\n",
       "<table class=\"simpletable\">\n",
       "<tr>\n",
       "    <td></td>       <th>coef</th>     <th>std err</th>      <th>t</th>      <th>P>|t|</th> <th>[95.0% Conf. Int.]</th> \n",
       "</tr>\n",
       "<tr>\n",
       "  <th>const</th> <td>    0.4089</td> <td>    0.016</td> <td>   25.859</td> <td> 0.000</td> <td>    0.377     0.441</td>\n",
       "</tr>\n",
       "<tr>\n",
       "  <th>x1</th>    <td>   -0.0003</td> <td>    0.001</td> <td>   -0.340</td> <td> 0.737</td> <td>   -0.002     0.002</td>\n",
       "</tr>\n",
       "</table>\n",
       "<table class=\"simpletable\">\n",
       "<tr>\n",
       "  <th>Omnibus:</th>       <td> 1.619</td> <th>  Durbin-Watson:     </th> <td>   1.720</td>\n",
       "</tr>\n",
       "<tr>\n",
       "  <th>Prob(Omnibus):</th> <td> 0.445</td> <th>  Jarque-Bera (JB):  </th> <td>   1.296</td>\n",
       "</tr>\n",
       "<tr>\n",
       "  <th>Skew:</th>          <td>-0.496</td> <th>  Prob(JB):          </th> <td>   0.523</td>\n",
       "</tr>\n",
       "<tr>\n",
       "  <th>Kurtosis:</th>      <td> 2.772</td> <th>  Cond. No.          </th> <td>    33.0</td>\n",
       "</tr>\n",
       "</table>"
      ],
      "text/plain": [
       "<class 'statsmodels.iolib.summary.Summary'>\n",
       "\"\"\"\n",
       "                            OLS Regression Results                            \n",
       "==============================================================================\n",
       "Dep. Variable:                      y   R-squared:                       0.004\n",
       "Model:                            OLS   Adj. R-squared:                 -0.031\n",
       "Method:                 Least Squares   F-statistic:                    0.1154\n",
       "Date:                Sat, 10 Oct 2015   Prob (F-statistic):              0.737\n",
       "Time:                        22:34:55   Log-Likelihood:                 51.906\n",
       "No. Observations:                  30   AIC:                            -99.81\n",
       "Df Residuals:                      28   BIC:                            -97.01\n",
       "Df Model:                           1                                         \n",
       "Covariance Type:            nonrobust                                         \n",
       "==============================================================================\n",
       "                 coef    std err          t      P>|t|      [95.0% Conf. Int.]\n",
       "------------------------------------------------------------------------------\n",
       "const          0.4089      0.016     25.859      0.000         0.377     0.441\n",
       "x1            -0.0003      0.001     -0.340      0.737        -0.002     0.002\n",
       "==============================================================================\n",
       "Omnibus:                        1.619   Durbin-Watson:                   1.720\n",
       "Prob(Omnibus):                  0.445   Jarque-Bera (JB):                1.296\n",
       "Skew:                          -0.496   Prob(JB):                        0.523\n",
       "Kurtosis:                       2.772   Cond. No.                         33.0\n",
       "==============================================================================\n",
       "\n",
       "Warnings:\n",
       "[1] Standard Errors assume that the covariance matrix of the errors is correctly specified.\n",
       "\"\"\""
      ]
     },
     "execution_count": 399,
     "metadata": {},
     "output_type": "execute_result"
    }
   ],
   "source": [
    "# Function to get regression stats, \n",
    "#e.g. running this will give regresion of year vs. distance to nearest neighbours for unsuccessful words. \n",
    "trendestimator.trend_estimate_arr(uknn).summary()"
   ]
  }
 ],
 "metadata": {
  "kernelspec": {
   "display_name": "Python 2",
   "language": "python",
   "name": "python2"
  },
  "language_info": {
   "codemirror_mode": {
    "name": "ipython",
    "version": 2
   },
   "file_extension": ".py",
   "mimetype": "text/x-python",
   "name": "python",
   "nbconvert_exporter": "python",
   "pygments_lexer": "ipython2",
   "version": "2.7.10"
  }
 },
 "nbformat": 4,
 "nbformat_minor": 0
}
